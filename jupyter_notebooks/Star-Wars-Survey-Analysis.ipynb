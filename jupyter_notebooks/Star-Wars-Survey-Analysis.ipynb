{
 "cells": [
  {
   "cell_type": "markdown",
   "metadata": {},
   "source": [
    "#### Analyzing Star wars movie survey data:\n",
    "\n",
    "In this notebook, We trying to clean and analyze the Star wars survey data provided by FiveThirtyEight. As we understand that this data is related to people's perspective about Star Wars sequels. We are going to formulate few questions for us to find out. As our analysis is open-ended, we are going to keep an eye for any interesting insight along our journey. \n",
    "\n",
    "For now, let's look at few columns:\n",
    "\n",
    "- `RespondentID` - An anonymized ID for the respondent (person taking the survey)\n",
    "- `Gender` - The respondent's gender\n",
    "- `Age` - The respondent's age\n",
    "- `Household Income` - The respondent's income\n",
    "- `Education` - The respondent's education level\n",
    "- `Location` (Census Region) - The respondent's location\n",
    "- `Have you seen any of the 6 films in the Star Wars franchise?` - Has a Yes or No response\n",
    "- `Do you consider yourself to be a fan of the Star Wars film franchise?` - Has a Yes or No response\n",
    "\n",
    "Now, we have surface understanding of the data. We'll formulate few questions like:\n",
    "- Q. Most viewed sequels of the Star Wars?\n",
    "- Q. Which sequel is more popular among the age group?\n",
    "- Q. What category of people have more tendency to watch all the sequels of Star wars?"
   ]
  },
  {
   "cell_type": "code",
   "execution_count": 1,
   "metadata": {},
   "outputs": [],
   "source": [
    "import pandas as pd\n",
    "import numpy as np\n",
    "import matplotlib.pyplot as plt"
   ]
  },
  {
   "cell_type": "code",
   "execution_count": 2,
   "metadata": {},
   "outputs": [
    {
     "name": "stdout",
     "output_type": "stream",
     "text": [
      "<class 'pandas.core.frame.DataFrame'>\n",
      "RangeIndex: 1187 entries, 0 to 1186\n",
      "Data columns (total 38 columns):\n",
      "RespondentID                                                                                                                                     1186 non-null float64\n",
      "Have you seen any of the 6 films in the Star Wars franchise?                                                                                     1187 non-null object\n",
      "Do you consider yourself to be a fan of the Star Wars film franchise?                                                                            837 non-null object\n",
      "Which of the following Star Wars films have you seen? Please select all that apply.                                                              674 non-null object\n",
      "Unnamed: 4                                                                                                                                       572 non-null object\n",
      "Unnamed: 5                                                                                                                                       551 non-null object\n",
      "Unnamed: 6                                                                                                                                       608 non-null object\n",
      "Unnamed: 7                                                                                                                                       759 non-null object\n",
      "Unnamed: 8                                                                                                                                       739 non-null object\n",
      "Please rank the Star Wars films in order of preference with 1 being your favorite film in the franchise and 6 being your least favorite film.    836 non-null object\n",
      "Unnamed: 10                                                                                                                                      837 non-null object\n",
      "Unnamed: 11                                                                                                                                      836 non-null object\n",
      "Unnamed: 12                                                                                                                                      837 non-null object\n",
      "Unnamed: 13                                                                                                                                      837 non-null object\n",
      "Unnamed: 14                                                                                                                                      837 non-null object\n",
      "Please state whether you view the following characters favorably, unfavorably, or are unfamiliar with him/her.                                   830 non-null object\n",
      "Unnamed: 16                                                                                                                                      832 non-null object\n",
      "Unnamed: 17                                                                                                                                      832 non-null object\n",
      "Unnamed: 18                                                                                                                                      824 non-null object\n",
      "Unnamed: 19                                                                                                                                      826 non-null object\n",
      "Unnamed: 20                                                                                                                                      815 non-null object\n",
      "Unnamed: 21                                                                                                                                      827 non-null object\n",
      "Unnamed: 22                                                                                                                                      821 non-null object\n",
      "Unnamed: 23                                                                                                                                      813 non-null object\n",
      "Unnamed: 24                                                                                                                                      828 non-null object\n",
      "Unnamed: 25                                                                                                                                      831 non-null object\n",
      "Unnamed: 26                                                                                                                                      822 non-null object\n",
      "Unnamed: 27                                                                                                                                      815 non-null object\n",
      "Unnamed: 28                                                                                                                                      827 non-null object\n",
      "Which character shot first?                                                                                                                      829 non-null object\n",
      "Are you familiar with the Expanded Universe?                                                                                                     829 non-null object\n",
      "Do you consider yourself to be a fan of the Expanded Universe?æ                                                                                 214 non-null object\n",
      "Do you consider yourself to be a fan of the Star Trek franchise?                                                                                 1069 non-null object\n",
      "Gender                                                                                                                                           1047 non-null object\n",
      "Age                                                                                                                                              1047 non-null object\n",
      "Household Income                                                                                                                                 859 non-null object\n",
      "Education                                                                                                                                        1037 non-null object\n",
      "Location (Census Region)                                                                                                                         1044 non-null object\n",
      "dtypes: float64(1), object(37)\n",
      "memory usage: 352.5+ KB\n"
     ]
    }
   ],
   "source": [
    "df = pd.read_csv('https://raw.githubusercontent.com/fivethirtyeight/data/master/star-wars-survey/StarWars.csv',\n",
    "                          encoding='ISO-8859-1')\n",
    "df.info()"
   ]
  },
  {
   "cell_type": "code",
   "execution_count": 3,
   "metadata": {},
   "outputs": [
    {
     "data": {
      "text/plain": [
       "array(['RespondentID',\n",
       "       'Have you seen any of the 6 films in the Star Wars franchise?',\n",
       "       'Do you consider yourself to be a fan of the Star Wars film franchise?',\n",
       "       'Which of the following Star Wars films have you seen? Please select all that apply.',\n",
       "       'Unnamed: 4', 'Unnamed: 5', 'Unnamed: 6', 'Unnamed: 7',\n",
       "       'Unnamed: 8',\n",
       "       'Please rank the Star Wars films in order of preference with 1 being your favorite film in the franchise and 6 being your least favorite film.',\n",
       "       'Unnamed: 10', 'Unnamed: 11', 'Unnamed: 12', 'Unnamed: 13',\n",
       "       'Unnamed: 14',\n",
       "       'Please state whether you view the following characters favorably, unfavorably, or are unfamiliar with him/her.',\n",
       "       'Unnamed: 16', 'Unnamed: 17', 'Unnamed: 18', 'Unnamed: 19',\n",
       "       'Unnamed: 20', 'Unnamed: 21', 'Unnamed: 22', 'Unnamed: 23',\n",
       "       'Unnamed: 24', 'Unnamed: 25', 'Unnamed: 26', 'Unnamed: 27',\n",
       "       'Unnamed: 28', 'Which character shot first?',\n",
       "       'Are you familiar with the Expanded Universe?',\n",
       "       'Do you consider yourself to be a fan of the Expanded Universe?\\x8cæ',\n",
       "       'Do you consider yourself to be a fan of the Star Trek franchise?',\n",
       "       'Gender', 'Age', 'Household Income', 'Education',\n",
       "       'Location (Census Region)'], dtype=object)"
      ]
     },
     "execution_count": 3,
     "metadata": {},
     "output_type": "execute_result"
    }
   ],
   "source": [
    "df.columns.values"
   ]
  },
  {
   "cell_type": "code",
   "execution_count": 4,
   "metadata": {},
   "outputs": [
    {
     "data": {
      "text/html": [
       "<div>\n",
       "<style scoped>\n",
       "    .dataframe tbody tr th:only-of-type {\n",
       "        vertical-align: middle;\n",
       "    }\n",
       "\n",
       "    .dataframe tbody tr th {\n",
       "        vertical-align: top;\n",
       "    }\n",
       "\n",
       "    .dataframe thead th {\n",
       "        text-align: right;\n",
       "    }\n",
       "</style>\n",
       "<table border=\"1\" class=\"dataframe\">\n",
       "  <thead>\n",
       "    <tr style=\"text-align: right;\">\n",
       "      <th></th>\n",
       "      <th>RespondentID</th>\n",
       "      <th>Have you seen any of the 6 films in the Star Wars franchise?</th>\n",
       "      <th>Do you consider yourself to be a fan of the Star Wars film franchise?</th>\n",
       "      <th>Which of the following Star Wars films have you seen? Please select all that apply.</th>\n",
       "      <th>Unnamed: 4</th>\n",
       "      <th>Unnamed: 5</th>\n",
       "      <th>Unnamed: 6</th>\n",
       "      <th>Unnamed: 7</th>\n",
       "      <th>Unnamed: 8</th>\n",
       "      <th>Please rank the Star Wars films in order of preference with 1 being your favorite film in the franchise and 6 being your least favorite film.</th>\n",
       "      <th>...</th>\n",
       "      <th>Unnamed: 28</th>\n",
       "      <th>Which character shot first?</th>\n",
       "      <th>Are you familiar with the Expanded Universe?</th>\n",
       "      <th>Do you consider yourself to be a fan of the Expanded Universe?æ</th>\n",
       "      <th>Do you consider yourself to be a fan of the Star Trek franchise?</th>\n",
       "      <th>Gender</th>\n",
       "      <th>Age</th>\n",
       "      <th>Household Income</th>\n",
       "      <th>Education</th>\n",
       "      <th>Location (Census Region)</th>\n",
       "    </tr>\n",
       "  </thead>\n",
       "  <tbody>\n",
       "    <tr>\n",
       "      <th>0</th>\n",
       "      <td>NaN</td>\n",
       "      <td>Response</td>\n",
       "      <td>Response</td>\n",
       "      <td>Star Wars: Episode I  The Phantom Menace</td>\n",
       "      <td>Star Wars: Episode II  Attack of the Clones</td>\n",
       "      <td>Star Wars: Episode III  Revenge of the Sith</td>\n",
       "      <td>Star Wars: Episode IV  A New Hope</td>\n",
       "      <td>Star Wars: Episode V The Empire Strikes Back</td>\n",
       "      <td>Star Wars: Episode VI Return of the Jedi</td>\n",
       "      <td>Star Wars: Episode I  The Phantom Menace</td>\n",
       "      <td>...</td>\n",
       "      <td>Yoda</td>\n",
       "      <td>Response</td>\n",
       "      <td>Response</td>\n",
       "      <td>Response</td>\n",
       "      <td>Response</td>\n",
       "      <td>Response</td>\n",
       "      <td>Response</td>\n",
       "      <td>Response</td>\n",
       "      <td>Response</td>\n",
       "      <td>Response</td>\n",
       "    </tr>\n",
       "    <tr>\n",
       "      <th>1</th>\n",
       "      <td>3.292880e+09</td>\n",
       "      <td>Yes</td>\n",
       "      <td>Yes</td>\n",
       "      <td>Star Wars: Episode I  The Phantom Menace</td>\n",
       "      <td>Star Wars: Episode II  Attack of the Clones</td>\n",
       "      <td>Star Wars: Episode III  Revenge of the Sith</td>\n",
       "      <td>Star Wars: Episode IV  A New Hope</td>\n",
       "      <td>Star Wars: Episode V The Empire Strikes Back</td>\n",
       "      <td>Star Wars: Episode VI Return of the Jedi</td>\n",
       "      <td>3</td>\n",
       "      <td>...</td>\n",
       "      <td>Very favorably</td>\n",
       "      <td>I don't understand this question</td>\n",
       "      <td>Yes</td>\n",
       "      <td>No</td>\n",
       "      <td>No</td>\n",
       "      <td>Male</td>\n",
       "      <td>18-29</td>\n",
       "      <td>NaN</td>\n",
       "      <td>High school degree</td>\n",
       "      <td>South Atlantic</td>\n",
       "    </tr>\n",
       "    <tr>\n",
       "      <th>2</th>\n",
       "      <td>3.292880e+09</td>\n",
       "      <td>No</td>\n",
       "      <td>NaN</td>\n",
       "      <td>NaN</td>\n",
       "      <td>NaN</td>\n",
       "      <td>NaN</td>\n",
       "      <td>NaN</td>\n",
       "      <td>NaN</td>\n",
       "      <td>NaN</td>\n",
       "      <td>NaN</td>\n",
       "      <td>...</td>\n",
       "      <td>NaN</td>\n",
       "      <td>NaN</td>\n",
       "      <td>NaN</td>\n",
       "      <td>NaN</td>\n",
       "      <td>Yes</td>\n",
       "      <td>Male</td>\n",
       "      <td>18-29</td>\n",
       "      <td>$0 - $24,999</td>\n",
       "      <td>Bachelor degree</td>\n",
       "      <td>West South Central</td>\n",
       "    </tr>\n",
       "    <tr>\n",
       "      <th>3</th>\n",
       "      <td>3.292765e+09</td>\n",
       "      <td>Yes</td>\n",
       "      <td>No</td>\n",
       "      <td>Star Wars: Episode I  The Phantom Menace</td>\n",
       "      <td>Star Wars: Episode II  Attack of the Clones</td>\n",
       "      <td>Star Wars: Episode III  Revenge of the Sith</td>\n",
       "      <td>NaN</td>\n",
       "      <td>NaN</td>\n",
       "      <td>NaN</td>\n",
       "      <td>1</td>\n",
       "      <td>...</td>\n",
       "      <td>Unfamiliar (N/A)</td>\n",
       "      <td>I don't understand this question</td>\n",
       "      <td>No</td>\n",
       "      <td>NaN</td>\n",
       "      <td>No</td>\n",
       "      <td>Male</td>\n",
       "      <td>18-29</td>\n",
       "      <td>$0 - $24,999</td>\n",
       "      <td>High school degree</td>\n",
       "      <td>West North Central</td>\n",
       "    </tr>\n",
       "    <tr>\n",
       "      <th>4</th>\n",
       "      <td>3.292763e+09</td>\n",
       "      <td>Yes</td>\n",
       "      <td>Yes</td>\n",
       "      <td>Star Wars: Episode I  The Phantom Menace</td>\n",
       "      <td>Star Wars: Episode II  Attack of the Clones</td>\n",
       "      <td>Star Wars: Episode III  Revenge of the Sith</td>\n",
       "      <td>Star Wars: Episode IV  A New Hope</td>\n",
       "      <td>Star Wars: Episode V The Empire Strikes Back</td>\n",
       "      <td>Star Wars: Episode VI Return of the Jedi</td>\n",
       "      <td>5</td>\n",
       "      <td>...</td>\n",
       "      <td>Very favorably</td>\n",
       "      <td>I don't understand this question</td>\n",
       "      <td>No</td>\n",
       "      <td>NaN</td>\n",
       "      <td>Yes</td>\n",
       "      <td>Male</td>\n",
       "      <td>18-29</td>\n",
       "      <td>$100,000 - $149,999</td>\n",
       "      <td>Some college or Associate degree</td>\n",
       "      <td>West North Central</td>\n",
       "    </tr>\n",
       "  </tbody>\n",
       "</table>\n",
       "<p>5 rows × 38 columns</p>\n",
       "</div>"
      ],
      "text/plain": [
       "   RespondentID Have you seen any of the 6 films in the Star Wars franchise?  \\\n",
       "0           NaN                                           Response             \n",
       "1  3.292880e+09                                                Yes             \n",
       "2  3.292880e+09                                                 No             \n",
       "3  3.292765e+09                                                Yes             \n",
       "4  3.292763e+09                                                Yes             \n",
       "\n",
       "  Do you consider yourself to be a fan of the Star Wars film franchise?  \\\n",
       "0                                           Response                      \n",
       "1                                                Yes                      \n",
       "2                                                NaN                      \n",
       "3                                                 No                      \n",
       "4                                                Yes                      \n",
       "\n",
       "  Which of the following Star Wars films have you seen? Please select all that apply.  \\\n",
       "0           Star Wars: Episode I  The Phantom Menace                                    \n",
       "1           Star Wars: Episode I  The Phantom Menace                                    \n",
       "2                                                NaN                                    \n",
       "3           Star Wars: Episode I  The Phantom Menace                                    \n",
       "4           Star Wars: Episode I  The Phantom Menace                                    \n",
       "\n",
       "                                    Unnamed: 4  \\\n",
       "0  Star Wars: Episode II  Attack of the Clones   \n",
       "1  Star Wars: Episode II  Attack of the Clones   \n",
       "2                                          NaN   \n",
       "3  Star Wars: Episode II  Attack of the Clones   \n",
       "4  Star Wars: Episode II  Attack of the Clones   \n",
       "\n",
       "                                    Unnamed: 5  \\\n",
       "0  Star Wars: Episode III  Revenge of the Sith   \n",
       "1  Star Wars: Episode III  Revenge of the Sith   \n",
       "2                                          NaN   \n",
       "3  Star Wars: Episode III  Revenge of the Sith   \n",
       "4  Star Wars: Episode III  Revenge of the Sith   \n",
       "\n",
       "                          Unnamed: 6  \\\n",
       "0  Star Wars: Episode IV  A New Hope   \n",
       "1  Star Wars: Episode IV  A New Hope   \n",
       "2                                NaN   \n",
       "3                                NaN   \n",
       "4  Star Wars: Episode IV  A New Hope   \n",
       "\n",
       "                                     Unnamed: 7  \\\n",
       "0  Star Wars: Episode V The Empire Strikes Back   \n",
       "1  Star Wars: Episode V The Empire Strikes Back   \n",
       "2                                           NaN   \n",
       "3                                           NaN   \n",
       "4  Star Wars: Episode V The Empire Strikes Back   \n",
       "\n",
       "                                 Unnamed: 8  \\\n",
       "0  Star Wars: Episode VI Return of the Jedi   \n",
       "1  Star Wars: Episode VI Return of the Jedi   \n",
       "2                                       NaN   \n",
       "3                                       NaN   \n",
       "4  Star Wars: Episode VI Return of the Jedi   \n",
       "\n",
       "  Please rank the Star Wars films in order of preference with 1 being your favorite film in the franchise and 6 being your least favorite film.  \\\n",
       "0           Star Wars: Episode I  The Phantom Menace                                                                                              \n",
       "1                                                  3                                                                                              \n",
       "2                                                NaN                                                                                              \n",
       "3                                                  1                                                                                              \n",
       "4                                                  5                                                                                              \n",
       "\n",
       "   ...       Unnamed: 28       Which character shot first?  \\\n",
       "0  ...              Yoda                          Response   \n",
       "1  ...    Very favorably  I don't understand this question   \n",
       "2  ...               NaN                               NaN   \n",
       "3  ...  Unfamiliar (N/A)  I don't understand this question   \n",
       "4  ...    Very favorably  I don't understand this question   \n",
       "\n",
       "  Are you familiar with the Expanded Universe?  \\\n",
       "0                                     Response   \n",
       "1                                          Yes   \n",
       "2                                          NaN   \n",
       "3                                           No   \n",
       "4                                           No   \n",
       "\n",
       "  Do you consider yourself to be a fan of the Expanded Universe?æ  \\\n",
       "0                                           Response                 \n",
       "1                                                 No                 \n",
       "2                                                NaN                 \n",
       "3                                                NaN                 \n",
       "4                                                NaN                 \n",
       "\n",
       "  Do you consider yourself to be a fan of the Star Trek franchise?    Gender  \\\n",
       "0                                           Response                Response   \n",
       "1                                                 No                    Male   \n",
       "2                                                Yes                    Male   \n",
       "3                                                 No                    Male   \n",
       "4                                                Yes                    Male   \n",
       "\n",
       "        Age     Household Income                         Education  \\\n",
       "0  Response             Response                          Response   \n",
       "1     18-29                  NaN                High school degree   \n",
       "2     18-29         $0 - $24,999                   Bachelor degree   \n",
       "3     18-29         $0 - $24,999                High school degree   \n",
       "4     18-29  $100,000 - $149,999  Some college or Associate degree   \n",
       "\n",
       "  Location (Census Region)  \n",
       "0                 Response  \n",
       "1           South Atlantic  \n",
       "2       West South Central  \n",
       "3       West North Central  \n",
       "4       West North Central  \n",
       "\n",
       "[5 rows x 38 columns]"
      ]
     },
     "execution_count": 4,
     "metadata": {},
     "output_type": "execute_result"
    }
   ],
   "source": [
    "df.head(5)"
   ]
  },
  {
   "cell_type": "code",
   "execution_count": 5,
   "metadata": {},
   "outputs": [
    {
     "data": {
      "text/html": [
       "<div>\n",
       "<style scoped>\n",
       "    .dataframe tbody tr th:only-of-type {\n",
       "        vertical-align: middle;\n",
       "    }\n",
       "\n",
       "    .dataframe tbody tr th {\n",
       "        vertical-align: top;\n",
       "    }\n",
       "\n",
       "    .dataframe thead th {\n",
       "        text-align: right;\n",
       "    }\n",
       "</style>\n",
       "<table border=\"1\" class=\"dataframe\">\n",
       "  <thead>\n",
       "    <tr style=\"text-align: right;\">\n",
       "      <th></th>\n",
       "      <th>RespondentID</th>\n",
       "      <th>Have you seen any of the 6 films in the Star Wars franchise?</th>\n",
       "      <th>Do you consider yourself to be a fan of the Star Wars film franchise?</th>\n",
       "      <th>Which of the following Star Wars films have you seen? Please select all that apply.</th>\n",
       "      <th>Unnamed: 4</th>\n",
       "      <th>Unnamed: 5</th>\n",
       "      <th>Unnamed: 6</th>\n",
       "      <th>Unnamed: 7</th>\n",
       "      <th>Unnamed: 8</th>\n",
       "      <th>Please rank the Star Wars films in order of preference with 1 being your favorite film in the franchise and 6 being your least favorite film.</th>\n",
       "      <th>...</th>\n",
       "      <th>Unnamed: 28</th>\n",
       "      <th>Which character shot first?</th>\n",
       "      <th>Are you familiar with the Expanded Universe?</th>\n",
       "      <th>Do you consider yourself to be a fan of the Expanded Universe?æ</th>\n",
       "      <th>Do you consider yourself to be a fan of the Star Trek franchise?</th>\n",
       "      <th>Gender</th>\n",
       "      <th>Age</th>\n",
       "      <th>Household Income</th>\n",
       "      <th>Education</th>\n",
       "      <th>Location (Census Region)</th>\n",
       "    </tr>\n",
       "  </thead>\n",
       "  <tbody>\n",
       "    <tr>\n",
       "      <th>count</th>\n",
       "      <td>1.186000e+03</td>\n",
       "      <td>1187</td>\n",
       "      <td>837</td>\n",
       "      <td>674</td>\n",
       "      <td>572</td>\n",
       "      <td>551</td>\n",
       "      <td>608</td>\n",
       "      <td>759</td>\n",
       "      <td>739</td>\n",
       "      <td>836</td>\n",
       "      <td>...</td>\n",
       "      <td>827</td>\n",
       "      <td>829</td>\n",
       "      <td>829</td>\n",
       "      <td>214</td>\n",
       "      <td>1069</td>\n",
       "      <td>1047</td>\n",
       "      <td>1047</td>\n",
       "      <td>859</td>\n",
       "      <td>1037</td>\n",
       "      <td>1044</td>\n",
       "    </tr>\n",
       "    <tr>\n",
       "      <th>unique</th>\n",
       "      <td>NaN</td>\n",
       "      <td>3</td>\n",
       "      <td>3</td>\n",
       "      <td>1</td>\n",
       "      <td>1</td>\n",
       "      <td>1</td>\n",
       "      <td>1</td>\n",
       "      <td>1</td>\n",
       "      <td>1</td>\n",
       "      <td>7</td>\n",
       "      <td>...</td>\n",
       "      <td>7</td>\n",
       "      <td>4</td>\n",
       "      <td>3</td>\n",
       "      <td>3</td>\n",
       "      <td>3</td>\n",
       "      <td>3</td>\n",
       "      <td>5</td>\n",
       "      <td>6</td>\n",
       "      <td>6</td>\n",
       "      <td>10</td>\n",
       "    </tr>\n",
       "    <tr>\n",
       "      <th>top</th>\n",
       "      <td>NaN</td>\n",
       "      <td>Yes</td>\n",
       "      <td>Yes</td>\n",
       "      <td>Star Wars: Episode I  The Phantom Menace</td>\n",
       "      <td>Star Wars: Episode II  Attack of the Clones</td>\n",
       "      <td>Star Wars: Episode III  Revenge of the Sith</td>\n",
       "      <td>Star Wars: Episode IV  A New Hope</td>\n",
       "      <td>Star Wars: Episode V The Empire Strikes Back</td>\n",
       "      <td>Star Wars: Episode VI Return of the Jedi</td>\n",
       "      <td>4</td>\n",
       "      <td>...</td>\n",
       "      <td>Very favorably</td>\n",
       "      <td>Han</td>\n",
       "      <td>No</td>\n",
       "      <td>No</td>\n",
       "      <td>No</td>\n",
       "      <td>Female</td>\n",
       "      <td>45-60</td>\n",
       "      <td>$50,000 - $99,999</td>\n",
       "      <td>Some college or Associate degree</td>\n",
       "      <td>East North Central</td>\n",
       "    </tr>\n",
       "    <tr>\n",
       "      <th>freq</th>\n",
       "      <td>NaN</td>\n",
       "      <td>936</td>\n",
       "      <td>552</td>\n",
       "      <td>674</td>\n",
       "      <td>572</td>\n",
       "      <td>551</td>\n",
       "      <td>608</td>\n",
       "      <td>759</td>\n",
       "      <td>739</td>\n",
       "      <td>237</td>\n",
       "      <td>...</td>\n",
       "      <td>605</td>\n",
       "      <td>325</td>\n",
       "      <td>615</td>\n",
       "      <td>114</td>\n",
       "      <td>641</td>\n",
       "      <td>549</td>\n",
       "      <td>291</td>\n",
       "      <td>298</td>\n",
       "      <td>328</td>\n",
       "      <td>181</td>\n",
       "    </tr>\n",
       "    <tr>\n",
       "      <th>mean</th>\n",
       "      <td>3.290128e+09</td>\n",
       "      <td>NaN</td>\n",
       "      <td>NaN</td>\n",
       "      <td>NaN</td>\n",
       "      <td>NaN</td>\n",
       "      <td>NaN</td>\n",
       "      <td>NaN</td>\n",
       "      <td>NaN</td>\n",
       "      <td>NaN</td>\n",
       "      <td>NaN</td>\n",
       "      <td>...</td>\n",
       "      <td>NaN</td>\n",
       "      <td>NaN</td>\n",
       "      <td>NaN</td>\n",
       "      <td>NaN</td>\n",
       "      <td>NaN</td>\n",
       "      <td>NaN</td>\n",
       "      <td>NaN</td>\n",
       "      <td>NaN</td>\n",
       "      <td>NaN</td>\n",
       "      <td>NaN</td>\n",
       "    </tr>\n",
       "    <tr>\n",
       "      <th>std</th>\n",
       "      <td>1.055639e+06</td>\n",
       "      <td>NaN</td>\n",
       "      <td>NaN</td>\n",
       "      <td>NaN</td>\n",
       "      <td>NaN</td>\n",
       "      <td>NaN</td>\n",
       "      <td>NaN</td>\n",
       "      <td>NaN</td>\n",
       "      <td>NaN</td>\n",
       "      <td>NaN</td>\n",
       "      <td>...</td>\n",
       "      <td>NaN</td>\n",
       "      <td>NaN</td>\n",
       "      <td>NaN</td>\n",
       "      <td>NaN</td>\n",
       "      <td>NaN</td>\n",
       "      <td>NaN</td>\n",
       "      <td>NaN</td>\n",
       "      <td>NaN</td>\n",
       "      <td>NaN</td>\n",
       "      <td>NaN</td>\n",
       "    </tr>\n",
       "    <tr>\n",
       "      <th>min</th>\n",
       "      <td>3.288373e+09</td>\n",
       "      <td>NaN</td>\n",
       "      <td>NaN</td>\n",
       "      <td>NaN</td>\n",
       "      <td>NaN</td>\n",
       "      <td>NaN</td>\n",
       "      <td>NaN</td>\n",
       "      <td>NaN</td>\n",
       "      <td>NaN</td>\n",
       "      <td>NaN</td>\n",
       "      <td>...</td>\n",
       "      <td>NaN</td>\n",
       "      <td>NaN</td>\n",
       "      <td>NaN</td>\n",
       "      <td>NaN</td>\n",
       "      <td>NaN</td>\n",
       "      <td>NaN</td>\n",
       "      <td>NaN</td>\n",
       "      <td>NaN</td>\n",
       "      <td>NaN</td>\n",
       "      <td>NaN</td>\n",
       "    </tr>\n",
       "    <tr>\n",
       "      <th>25%</th>\n",
       "      <td>3.289451e+09</td>\n",
       "      <td>NaN</td>\n",
       "      <td>NaN</td>\n",
       "      <td>NaN</td>\n",
       "      <td>NaN</td>\n",
       "      <td>NaN</td>\n",
       "      <td>NaN</td>\n",
       "      <td>NaN</td>\n",
       "      <td>NaN</td>\n",
       "      <td>NaN</td>\n",
       "      <td>...</td>\n",
       "      <td>NaN</td>\n",
       "      <td>NaN</td>\n",
       "      <td>NaN</td>\n",
       "      <td>NaN</td>\n",
       "      <td>NaN</td>\n",
       "      <td>NaN</td>\n",
       "      <td>NaN</td>\n",
       "      <td>NaN</td>\n",
       "      <td>NaN</td>\n",
       "      <td>NaN</td>\n",
       "    </tr>\n",
       "    <tr>\n",
       "      <th>50%</th>\n",
       "      <td>3.290147e+09</td>\n",
       "      <td>NaN</td>\n",
       "      <td>NaN</td>\n",
       "      <td>NaN</td>\n",
       "      <td>NaN</td>\n",
       "      <td>NaN</td>\n",
       "      <td>NaN</td>\n",
       "      <td>NaN</td>\n",
       "      <td>NaN</td>\n",
       "      <td>NaN</td>\n",
       "      <td>...</td>\n",
       "      <td>NaN</td>\n",
       "      <td>NaN</td>\n",
       "      <td>NaN</td>\n",
       "      <td>NaN</td>\n",
       "      <td>NaN</td>\n",
       "      <td>NaN</td>\n",
       "      <td>NaN</td>\n",
       "      <td>NaN</td>\n",
       "      <td>NaN</td>\n",
       "      <td>NaN</td>\n",
       "    </tr>\n",
       "    <tr>\n",
       "      <th>75%</th>\n",
       "      <td>3.290814e+09</td>\n",
       "      <td>NaN</td>\n",
       "      <td>NaN</td>\n",
       "      <td>NaN</td>\n",
       "      <td>NaN</td>\n",
       "      <td>NaN</td>\n",
       "      <td>NaN</td>\n",
       "      <td>NaN</td>\n",
       "      <td>NaN</td>\n",
       "      <td>NaN</td>\n",
       "      <td>...</td>\n",
       "      <td>NaN</td>\n",
       "      <td>NaN</td>\n",
       "      <td>NaN</td>\n",
       "      <td>NaN</td>\n",
       "      <td>NaN</td>\n",
       "      <td>NaN</td>\n",
       "      <td>NaN</td>\n",
       "      <td>NaN</td>\n",
       "      <td>NaN</td>\n",
       "      <td>NaN</td>\n",
       "    </tr>\n",
       "    <tr>\n",
       "      <th>max</th>\n",
       "      <td>3.292880e+09</td>\n",
       "      <td>NaN</td>\n",
       "      <td>NaN</td>\n",
       "      <td>NaN</td>\n",
       "      <td>NaN</td>\n",
       "      <td>NaN</td>\n",
       "      <td>NaN</td>\n",
       "      <td>NaN</td>\n",
       "      <td>NaN</td>\n",
       "      <td>NaN</td>\n",
       "      <td>...</td>\n",
       "      <td>NaN</td>\n",
       "      <td>NaN</td>\n",
       "      <td>NaN</td>\n",
       "      <td>NaN</td>\n",
       "      <td>NaN</td>\n",
       "      <td>NaN</td>\n",
       "      <td>NaN</td>\n",
       "      <td>NaN</td>\n",
       "      <td>NaN</td>\n",
       "      <td>NaN</td>\n",
       "    </tr>\n",
       "  </tbody>\n",
       "</table>\n",
       "<p>11 rows × 38 columns</p>\n",
       "</div>"
      ],
      "text/plain": [
       "        RespondentID  \\\n",
       "count   1.186000e+03   \n",
       "unique           NaN   \n",
       "top              NaN   \n",
       "freq             NaN   \n",
       "mean    3.290128e+09   \n",
       "std     1.055639e+06   \n",
       "min     3.288373e+09   \n",
       "25%     3.289451e+09   \n",
       "50%     3.290147e+09   \n",
       "75%     3.290814e+09   \n",
       "max     3.292880e+09   \n",
       "\n",
       "       Have you seen any of the 6 films in the Star Wars franchise?  \\\n",
       "count                                                1187             \n",
       "unique                                                  3             \n",
       "top                                                   Yes             \n",
       "freq                                                  936             \n",
       "mean                                                  NaN             \n",
       "std                                                   NaN             \n",
       "min                                                   NaN             \n",
       "25%                                                   NaN             \n",
       "50%                                                   NaN             \n",
       "75%                                                   NaN             \n",
       "max                                                   NaN             \n",
       "\n",
       "       Do you consider yourself to be a fan of the Star Wars film franchise?  \\\n",
       "count                                                 837                      \n",
       "unique                                                  3                      \n",
       "top                                                   Yes                      \n",
       "freq                                                  552                      \n",
       "mean                                                  NaN                      \n",
       "std                                                   NaN                      \n",
       "min                                                   NaN                      \n",
       "25%                                                   NaN                      \n",
       "50%                                                   NaN                      \n",
       "75%                                                   NaN                      \n",
       "max                                                   NaN                      \n",
       "\n",
       "       Which of the following Star Wars films have you seen? Please select all that apply.  \\\n",
       "count                                                 674                                    \n",
       "unique                                                  1                                    \n",
       "top              Star Wars: Episode I  The Phantom Menace                                    \n",
       "freq                                                  674                                    \n",
       "mean                                                  NaN                                    \n",
       "std                                                   NaN                                    \n",
       "min                                                   NaN                                    \n",
       "25%                                                   NaN                                    \n",
       "50%                                                   NaN                                    \n",
       "75%                                                   NaN                                    \n",
       "max                                                   NaN                                    \n",
       "\n",
       "                                         Unnamed: 4  \\\n",
       "count                                           572   \n",
       "unique                                            1   \n",
       "top     Star Wars: Episode II  Attack of the Clones   \n",
       "freq                                            572   \n",
       "mean                                            NaN   \n",
       "std                                             NaN   \n",
       "min                                             NaN   \n",
       "25%                                             NaN   \n",
       "50%                                             NaN   \n",
       "75%                                             NaN   \n",
       "max                                             NaN   \n",
       "\n",
       "                                         Unnamed: 5  \\\n",
       "count                                           551   \n",
       "unique                                            1   \n",
       "top     Star Wars: Episode III  Revenge of the Sith   \n",
       "freq                                            551   \n",
       "mean                                            NaN   \n",
       "std                                             NaN   \n",
       "min                                             NaN   \n",
       "25%                                             NaN   \n",
       "50%                                             NaN   \n",
       "75%                                             NaN   \n",
       "max                                             NaN   \n",
       "\n",
       "                               Unnamed: 6  \\\n",
       "count                                 608   \n",
       "unique                                  1   \n",
       "top     Star Wars: Episode IV  A New Hope   \n",
       "freq                                  608   \n",
       "mean                                  NaN   \n",
       "std                                   NaN   \n",
       "min                                   NaN   \n",
       "25%                                   NaN   \n",
       "50%                                   NaN   \n",
       "75%                                   NaN   \n",
       "max                                   NaN   \n",
       "\n",
       "                                          Unnamed: 7  \\\n",
       "count                                            759   \n",
       "unique                                             1   \n",
       "top     Star Wars: Episode V The Empire Strikes Back   \n",
       "freq                                             759   \n",
       "mean                                             NaN   \n",
       "std                                              NaN   \n",
       "min                                              NaN   \n",
       "25%                                              NaN   \n",
       "50%                                              NaN   \n",
       "75%                                              NaN   \n",
       "max                                              NaN   \n",
       "\n",
       "                                      Unnamed: 8  \\\n",
       "count                                        739   \n",
       "unique                                         1   \n",
       "top     Star Wars: Episode VI Return of the Jedi   \n",
       "freq                                         739   \n",
       "mean                                         NaN   \n",
       "std                                          NaN   \n",
       "min                                          NaN   \n",
       "25%                                          NaN   \n",
       "50%                                          NaN   \n",
       "75%                                          NaN   \n",
       "max                                          NaN   \n",
       "\n",
       "       Please rank the Star Wars films in order of preference with 1 being your favorite film in the franchise and 6 being your least favorite film.  \\\n",
       "count                                                 836                                                                                              \n",
       "unique                                                  7                                                                                              \n",
       "top                                                     4                                                                                              \n",
       "freq                                                  237                                                                                              \n",
       "mean                                                  NaN                                                                                              \n",
       "std                                                   NaN                                                                                              \n",
       "min                                                   NaN                                                                                              \n",
       "25%                                                   NaN                                                                                              \n",
       "50%                                                   NaN                                                                                              \n",
       "75%                                                   NaN                                                                                              \n",
       "max                                                   NaN                                                                                              \n",
       "\n",
       "        ...     Unnamed: 28 Which character shot first?  \\\n",
       "count   ...             827                         829   \n",
       "unique  ...               7                           4   \n",
       "top     ...  Very favorably                         Han   \n",
       "freq    ...             605                         325   \n",
       "mean    ...             NaN                         NaN   \n",
       "std     ...             NaN                         NaN   \n",
       "min     ...             NaN                         NaN   \n",
       "25%     ...             NaN                         NaN   \n",
       "50%     ...             NaN                         NaN   \n",
       "75%     ...             NaN                         NaN   \n",
       "max     ...             NaN                         NaN   \n",
       "\n",
       "       Are you familiar with the Expanded Universe?  \\\n",
       "count                                           829   \n",
       "unique                                            3   \n",
       "top                                              No   \n",
       "freq                                            615   \n",
       "mean                                            NaN   \n",
       "std                                             NaN   \n",
       "min                                             NaN   \n",
       "25%                                             NaN   \n",
       "50%                                             NaN   \n",
       "75%                                             NaN   \n",
       "max                                             NaN   \n",
       "\n",
       "       Do you consider yourself to be a fan of the Expanded Universe?æ  \\\n",
       "count                                                 214                 \n",
       "unique                                                  3                 \n",
       "top                                                    No                 \n",
       "freq                                                  114                 \n",
       "mean                                                  NaN                 \n",
       "std                                                   NaN                 \n",
       "min                                                   NaN                 \n",
       "25%                                                   NaN                 \n",
       "50%                                                   NaN                 \n",
       "75%                                                   NaN                 \n",
       "max                                                   NaN                 \n",
       "\n",
       "       Do you consider yourself to be a fan of the Star Trek franchise?  \\\n",
       "count                                                1069                 \n",
       "unique                                                  3                 \n",
       "top                                                    No                 \n",
       "freq                                                  641                 \n",
       "mean                                                  NaN                 \n",
       "std                                                   NaN                 \n",
       "min                                                   NaN                 \n",
       "25%                                                   NaN                 \n",
       "50%                                                   NaN                 \n",
       "75%                                                   NaN                 \n",
       "max                                                   NaN                 \n",
       "\n",
       "        Gender    Age   Household Income                         Education  \\\n",
       "count     1047   1047                859                              1037   \n",
       "unique       3      5                  6                                 6   \n",
       "top     Female  45-60  $50,000 - $99,999  Some college or Associate degree   \n",
       "freq       549    291                298                               328   \n",
       "mean       NaN    NaN                NaN                               NaN   \n",
       "std        NaN    NaN                NaN                               NaN   \n",
       "min        NaN    NaN                NaN                               NaN   \n",
       "25%        NaN    NaN                NaN                               NaN   \n",
       "50%        NaN    NaN                NaN                               NaN   \n",
       "75%        NaN    NaN                NaN                               NaN   \n",
       "max        NaN    NaN                NaN                               NaN   \n",
       "\n",
       "       Location (Census Region)  \n",
       "count                      1044  \n",
       "unique                       10  \n",
       "top          East North Central  \n",
       "freq                        181  \n",
       "mean                        NaN  \n",
       "std                         NaN  \n",
       "min                         NaN  \n",
       "25%                         NaN  \n",
       "50%                         NaN  \n",
       "75%                         NaN  \n",
       "max                         NaN  \n",
       "\n",
       "[11 rows x 38 columns]"
      ]
     },
     "execution_count": 5,
     "metadata": {},
     "output_type": "execute_result"
    }
   ],
   "source": [
    "df.describe(include='all')"
   ]
  },
  {
   "cell_type": "code",
   "execution_count": 12,
   "metadata": {},
   "outputs": [
    {
     "data": {
      "text/html": [
       "<div>\n",
       "<style scoped>\n",
       "    .dataframe tbody tr th:only-of-type {\n",
       "        vertical-align: middle;\n",
       "    }\n",
       "\n",
       "    .dataframe tbody tr th {\n",
       "        vertical-align: top;\n",
       "    }\n",
       "\n",
       "    .dataframe thead th {\n",
       "        text-align: right;\n",
       "    }\n",
       "</style>\n",
       "<table border=\"1\" class=\"dataframe\">\n",
       "  <thead>\n",
       "    <tr style=\"text-align: right;\">\n",
       "      <th></th>\n",
       "      <th>RespondentID</th>\n",
       "      <th>Have you seen any of the 6 films in the Star Wars franchise?</th>\n",
       "      <th>Do you consider yourself to be a fan of the Star Wars film franchise?</th>\n",
       "      <th>Which of the following Star Wars films have you seen? Please select all that apply.</th>\n",
       "      <th>Unnamed: 4</th>\n",
       "      <th>Unnamed: 5</th>\n",
       "      <th>Unnamed: 6</th>\n",
       "      <th>Unnamed: 7</th>\n",
       "      <th>Unnamed: 8</th>\n",
       "      <th>Please rank the Star Wars films in order of preference with 1 being your favorite film in the franchise and 6 being your least favorite film.</th>\n",
       "      <th>...</th>\n",
       "      <th>Unnamed: 28</th>\n",
       "      <th>Which character shot first?</th>\n",
       "      <th>Are you familiar with the Expanded Universe?</th>\n",
       "      <th>Do you consider yourself to be a fan of the Expanded Universe?æ</th>\n",
       "      <th>Do you consider yourself to be a fan of the Star Trek franchise?</th>\n",
       "      <th>Gender</th>\n",
       "      <th>Age</th>\n",
       "      <th>Household Income</th>\n",
       "      <th>Education</th>\n",
       "      <th>Location (Census Region)</th>\n",
       "    </tr>\n",
       "  </thead>\n",
       "  <tbody>\n",
       "    <tr>\n",
       "      <th>0</th>\n",
       "      <td>NaN</td>\n",
       "      <td>Response</td>\n",
       "      <td>Response</td>\n",
       "      <td>Star Wars: Episode I  The Phantom Menace</td>\n",
       "      <td>Star Wars: Episode II  Attack of the Clones</td>\n",
       "      <td>Star Wars: Episode III  Revenge of the Sith</td>\n",
       "      <td>Star Wars: Episode IV  A New Hope</td>\n",
       "      <td>Star Wars: Episode V The Empire Strikes Back</td>\n",
       "      <td>Star Wars: Episode VI Return of the Jedi</td>\n",
       "      <td>Star Wars: Episode I  The Phantom Menace</td>\n",
       "      <td>...</td>\n",
       "      <td>Yoda</td>\n",
       "      <td>Response</td>\n",
       "      <td>Response</td>\n",
       "      <td>Response</td>\n",
       "      <td>Response</td>\n",
       "      <td>Response</td>\n",
       "      <td>Response</td>\n",
       "      <td>Response</td>\n",
       "      <td>Response</td>\n",
       "      <td>Response</td>\n",
       "    </tr>\n",
       "  </tbody>\n",
       "</table>\n",
       "<p>1 rows × 38 columns</p>\n",
       "</div>"
      ],
      "text/plain": [
       "   RespondentID Have you seen any of the 6 films in the Star Wars franchise?  \\\n",
       "0           NaN                                           Response             \n",
       "\n",
       "  Do you consider yourself to be a fan of the Star Wars film franchise?  \\\n",
       "0                                           Response                      \n",
       "\n",
       "  Which of the following Star Wars films have you seen? Please select all that apply.  \\\n",
       "0           Star Wars: Episode I  The Phantom Menace                                    \n",
       "\n",
       "                                    Unnamed: 4  \\\n",
       "0  Star Wars: Episode II  Attack of the Clones   \n",
       "\n",
       "                                    Unnamed: 5  \\\n",
       "0  Star Wars: Episode III  Revenge of the Sith   \n",
       "\n",
       "                          Unnamed: 6  \\\n",
       "0  Star Wars: Episode IV  A New Hope   \n",
       "\n",
       "                                     Unnamed: 7  \\\n",
       "0  Star Wars: Episode V The Empire Strikes Back   \n",
       "\n",
       "                                 Unnamed: 8  \\\n",
       "0  Star Wars: Episode VI Return of the Jedi   \n",
       "\n",
       "  Please rank the Star Wars films in order of preference with 1 being your favorite film in the franchise and 6 being your least favorite film.  \\\n",
       "0           Star Wars: Episode I  The Phantom Menace                                                                                              \n",
       "\n",
       "   ... Unnamed: 28 Which character shot first?  \\\n",
       "0  ...        Yoda                    Response   \n",
       "\n",
       "  Are you familiar with the Expanded Universe?  \\\n",
       "0                                     Response   \n",
       "\n",
       "  Do you consider yourself to be a fan of the Expanded Universe?æ  \\\n",
       "0                                           Response                 \n",
       "\n",
       "  Do you consider yourself to be a fan of the Star Trek franchise?    Gender  \\\n",
       "0                                           Response                Response   \n",
       "\n",
       "        Age Household Income Education Location (Census Region)  \n",
       "0  Response         Response  Response                 Response  \n",
       "\n",
       "[1 rows x 38 columns]"
      ]
     },
     "execution_count": 12,
     "metadata": {},
     "output_type": "execute_result"
    }
   ],
   "source": [
    "df[df['RespondentID'].isnull()]"
   ]
  },
  {
   "cell_type": "code",
   "execution_count": 99,
   "metadata": {},
   "outputs": [],
   "source": [
    "#back-up copy\n",
    "star_wars_df = df.copy()"
   ]
  },
  {
   "cell_type": "code",
   "execution_count": 100,
   "metadata": {},
   "outputs": [
    {
     "data": {
      "text/plain": [
       "(1187, 38)"
      ]
     },
     "execution_count": 100,
     "metadata": {},
     "output_type": "execute_result"
    }
   ],
   "source": [
    "df.shape"
   ]
  },
  {
   "cell_type": "code",
   "execution_count": 101,
   "metadata": {},
   "outputs": [
    {
     "data": {
      "text/plain": [
       "(1186, 38)"
      ]
     },
     "execution_count": 101,
     "metadata": {},
     "output_type": "execute_result"
    }
   ],
   "source": [
    "# removing the respondent Id with NaN\n",
    "star_wars_df = star_wars_df[star_wars_df['RespondentID'].notnull()]\n",
    "star_wars_df.shape"
   ]
  },
  {
   "cell_type": "code",
   "execution_count": 102,
   "metadata": {},
   "outputs": [
    {
     "data": {
      "text/plain": [
       "Yes    936\n",
       "No     250\n",
       "Name: Have you seen any of the 6 films in the Star Wars franchise?, dtype: int64"
      ]
     },
     "execution_count": 102,
     "metadata": {},
     "output_type": "execute_result"
    }
   ],
   "source": [
    "star_wars_df['Have you seen any of the 6 films in the Star Wars franchise?'].value_counts(dropna=False)"
   ]
  },
  {
   "cell_type": "markdown",
   "metadata": {},
   "source": [
    "There are no missing values in this column."
   ]
  },
  {
   "cell_type": "code",
   "execution_count": 103,
   "metadata": {},
   "outputs": [
    {
     "data": {
      "text/plain": [
       "Yes    552\n",
       "NaN    350\n",
       "No     284\n",
       "Name: Do you consider yourself to be a fan of the Star Wars film franchise?, dtype: int64"
      ]
     },
     "execution_count": 103,
     "metadata": {},
     "output_type": "execute_result"
    }
   ],
   "source": [
    "star_wars_df['Do you consider yourself to be a fan of the Star Wars film franchise?'].value_counts(dropna=False)"
   ]
  },
  {
   "cell_type": "markdown",
   "metadata": {},
   "source": [
    "We can see there are 284 missing values in this columns.\n",
    "\n",
    "Let's map the 'Yes' & 'No' value to 'True' & 'False'. This will make you working with pandas lot easier. You can work as it is if you prefer."
   ]
  },
  {
   "cell_type": "code",
   "execution_count": 104,
   "metadata": {},
   "outputs": [],
   "source": [
    "yes_no_map = { 'Yes': True, 'No':False}"
   ]
  },
  {
   "cell_type": "code",
   "execution_count": 105,
   "metadata": {},
   "outputs": [
    {
     "data": {
      "text/plain": [
       "True     936\n",
       "False    250\n",
       "Name: Have you seen any of the 6 films in the Star Wars franchise?, dtype: int64"
      ]
     },
     "execution_count": 105,
     "metadata": {},
     "output_type": "execute_result"
    }
   ],
   "source": [
    "star_wars_df['Have you seen any of the 6 films in the Star Wars franchise?'] = \\\n",
    "    star_wars_df['Have you seen any of the 6 films in the Star Wars franchise?'].map(yes_no_map)\n",
    "star_wars_df['Have you seen any of the 6 films in the Star Wars franchise?'].value_counts(dropna=False)"
   ]
  },
  {
   "cell_type": "code",
   "execution_count": 106,
   "metadata": {},
   "outputs": [
    {
     "data": {
      "text/plain": [
       "True     552\n",
       "NaN      350\n",
       "False    284\n",
       "Name: Do you consider yourself to be a fan of the Star Wars film franchise?, dtype: int64"
      ]
     },
     "execution_count": 106,
     "metadata": {},
     "output_type": "execute_result"
    }
   ],
   "source": [
    "star_wars_df['Do you consider yourself to be a fan of the Star Wars film franchise?'] = \\\n",
    "star_wars_df['Do you consider yourself to be a fan of the Star Wars film franchise?'].map(yes_no_map)\n",
    "star_wars_df['Do you consider yourself to be a fan of the Star Wars film franchise?'].value_counts(dropna=False)"
   ]
  },
  {
   "cell_type": "code",
   "execution_count": 107,
   "metadata": {},
   "outputs": [
    {
     "data": {
      "text/plain": [
       "array(['RespondentID',\n",
       "       'Have you seen any of the 6 films in the Star Wars franchise?',\n",
       "       'Do you consider yourself to be a fan of the Star Wars film franchise?',\n",
       "       'Which of the following Star Wars films have you seen? Please select all that apply.',\n",
       "       'Unnamed: 4', 'Unnamed: 5', 'Unnamed: 6', 'Unnamed: 7',\n",
       "       'Unnamed: 8',\n",
       "       'Please rank the Star Wars films in order of preference with 1 being your favorite film in the franchise and 6 being your least favorite film.',\n",
       "       'Unnamed: 10', 'Unnamed: 11', 'Unnamed: 12', 'Unnamed: 13',\n",
       "       'Unnamed: 14',\n",
       "       'Please state whether you view the following characters favorably, unfavorably, or are unfamiliar with him/her.',\n",
       "       'Unnamed: 16', 'Unnamed: 17', 'Unnamed: 18', 'Unnamed: 19',\n",
       "       'Unnamed: 20', 'Unnamed: 21', 'Unnamed: 22', 'Unnamed: 23',\n",
       "       'Unnamed: 24', 'Unnamed: 25', 'Unnamed: 26', 'Unnamed: 27',\n",
       "       'Unnamed: 28', 'Which character shot first?',\n",
       "       'Are you familiar with the Expanded Universe?',\n",
       "       'Do you consider yourself to be a fan of the Expanded Universe?\\x8cæ',\n",
       "       'Do you consider yourself to be a fan of the Star Trek franchise?',\n",
       "       'Gender', 'Age', 'Household Income', 'Education',\n",
       "       'Location (Census Region)'], dtype=object)"
      ]
     },
     "execution_count": 107,
     "metadata": {},
     "output_type": "execute_result"
    }
   ],
   "source": [
    "star_wars_df.columns.values"
   ]
  },
  {
   "cell_type": "code",
   "execution_count": 108,
   "metadata": {},
   "outputs": [
    {
     "data": {
      "text/plain": [
       "Star Wars: Episode II  Attack of the Clones    571\n",
       "Name: Unnamed: 4, dtype: int64"
      ]
     },
     "execution_count": 108,
     "metadata": {},
     "output_type": "execute_result"
    }
   ],
   "source": [
    "star_wars_df['Unnamed: 4'].value_counts()"
   ]
  },
  {
   "cell_type": "markdown",
   "metadata": {},
   "source": [
    "###### Change the column names\n",
    "Here, multiple choice questions are represented by using questions as well as first choose by first columns and remaining options using consecutive `Unnamed: ` columns.\n",
    "\n",
    "For example, let's us look into the first question."
   ]
  },
  {
   "cell_type": "code",
   "execution_count": 109,
   "metadata": {
    "scrolled": false
   },
   "outputs": [
    {
     "data": {
      "text/html": [
       "<div>\n",
       "<style scoped>\n",
       "    .dataframe tbody tr th:only-of-type {\n",
       "        vertical-align: middle;\n",
       "    }\n",
       "\n",
       "    .dataframe tbody tr th {\n",
       "        vertical-align: top;\n",
       "    }\n",
       "\n",
       "    .dataframe thead th {\n",
       "        text-align: right;\n",
       "    }\n",
       "</style>\n",
       "<table border=\"1\" class=\"dataframe\">\n",
       "  <thead>\n",
       "    <tr style=\"text-align: right;\">\n",
       "      <th></th>\n",
       "      <th>Which of the following Star Wars films have you seen? Please select all that apply.</th>\n",
       "      <th>Unnamed: 4</th>\n",
       "      <th>Unnamed: 5</th>\n",
       "      <th>Unnamed: 6</th>\n",
       "      <th>Unnamed: 7</th>\n",
       "      <th>Unnamed: 8</th>\n",
       "    </tr>\n",
       "  </thead>\n",
       "  <tbody>\n",
       "    <tr>\n",
       "      <th>1</th>\n",
       "      <td>Star Wars: Episode I  The Phantom Menace</td>\n",
       "      <td>Star Wars: Episode II  Attack of the Clones</td>\n",
       "      <td>Star Wars: Episode III  Revenge of the Sith</td>\n",
       "      <td>Star Wars: Episode IV  A New Hope</td>\n",
       "      <td>Star Wars: Episode V The Empire Strikes Back</td>\n",
       "      <td>Star Wars: Episode VI Return of the Jedi</td>\n",
       "    </tr>\n",
       "    <tr>\n",
       "      <th>2</th>\n",
       "      <td>NaN</td>\n",
       "      <td>NaN</td>\n",
       "      <td>NaN</td>\n",
       "      <td>NaN</td>\n",
       "      <td>NaN</td>\n",
       "      <td>NaN</td>\n",
       "    </tr>\n",
       "    <tr>\n",
       "      <th>3</th>\n",
       "      <td>Star Wars: Episode I  The Phantom Menace</td>\n",
       "      <td>Star Wars: Episode II  Attack of the Clones</td>\n",
       "      <td>Star Wars: Episode III  Revenge of the Sith</td>\n",
       "      <td>NaN</td>\n",
       "      <td>NaN</td>\n",
       "      <td>NaN</td>\n",
       "    </tr>\n",
       "  </tbody>\n",
       "</table>\n",
       "</div>"
      ],
      "text/plain": [
       "  Which of the following Star Wars films have you seen? Please select all that apply.  \\\n",
       "1           Star Wars: Episode I  The Phantom Menace                                    \n",
       "2                                                NaN                                    \n",
       "3           Star Wars: Episode I  The Phantom Menace                                    \n",
       "\n",
       "                                    Unnamed: 4  \\\n",
       "1  Star Wars: Episode II  Attack of the Clones   \n",
       "2                                          NaN   \n",
       "3  Star Wars: Episode II  Attack of the Clones   \n",
       "\n",
       "                                    Unnamed: 5  \\\n",
       "1  Star Wars: Episode III  Revenge of the Sith   \n",
       "2                                          NaN   \n",
       "3  Star Wars: Episode III  Revenge of the Sith   \n",
       "\n",
       "                          Unnamed: 6  \\\n",
       "1  Star Wars: Episode IV  A New Hope   \n",
       "2                                NaN   \n",
       "3                                NaN   \n",
       "\n",
       "                                     Unnamed: 7  \\\n",
       "1  Star Wars: Episode V The Empire Strikes Back   \n",
       "2                                           NaN   \n",
       "3                                           NaN   \n",
       "\n",
       "                                 Unnamed: 8  \n",
       "1  Star Wars: Episode VI Return of the Jedi  \n",
       "2                                       NaN  \n",
       "3                                       NaN  "
      ]
     },
     "execution_count": 109,
     "metadata": {},
     "output_type": "execute_result"
    }
   ],
   "source": [
    "star_wars_df.iloc[:,3:9][:3]"
   ]
  },
  {
   "cell_type": "code",
   "execution_count": 110,
   "metadata": {},
   "outputs": [],
   "source": [
    "questions_1 = {\n",
    "'Which of the following Star Wars films have you seen? Please select all that apply.':'seen_1',\n",
    "    'Unnamed: 4':'seen_2', \n",
    "    'Unnamed: 5':'seen_3', \n",
    "    'Unnamed: 6':'seen_4', \n",
    "    'Unnamed: 7':'seen_5',\n",
    "    'Unnamed: 8':'seen_6'}"
   ]
  },
  {
   "cell_type": "code",
   "execution_count": 111,
   "metadata": {},
   "outputs": [
    {
     "name": "stdout",
     "output_type": "stream",
     "text": [
      "Which of the following Star Wars films have you seen? Please select all that apply. = > seen_1\n",
      "Unnamed: 4 = > seen_2\n",
      "Unnamed: 5 = > seen_3\n",
      "Unnamed: 6 = > seen_4\n",
      "Unnamed: 7 = > seen_5\n",
      "Unnamed: 8 = > seen_6\n"
     ]
    }
   ],
   "source": [
    "for col in star_wars_df.columns.values[3:9]:\n",
    "    print(f'{col} = > {questions_1[col]}')"
   ]
  },
  {
   "cell_type": "code",
   "execution_count": 112,
   "metadata": {},
   "outputs": [
    {
     "data": {
      "text/plain": [
       "array(['Which of the following Star Wars films have you seen? Please select all that apply.',\n",
       "       'Unnamed: 4', 'Unnamed: 5', 'Unnamed: 6', 'Unnamed: 7',\n",
       "       'Unnamed: 8'], dtype=object)"
      ]
     },
     "execution_count": 112,
     "metadata": {},
     "output_type": "execute_result"
    }
   ],
   "source": [
    "star_wars_df.columns.values[3:9]"
   ]
  },
  {
   "cell_type": "code",
   "execution_count": 113,
   "metadata": {},
   "outputs": [],
   "source": [
    "for col in star_wars_df.columns.values[3:9]:\n",
    "    star_wars_df = star_wars_df.rename(columns={col:questions_1[col]})"
   ]
  },
  {
   "cell_type": "code",
   "execution_count": 114,
   "metadata": {},
   "outputs": [
    {
     "data": {
      "text/plain": [
       "array(['seen_1', 'seen_2', 'seen_3', 'seen_4', 'seen_5', 'seen_6'],\n",
       "      dtype=object)"
      ]
     },
     "execution_count": 114,
     "metadata": {},
     "output_type": "execute_result"
    }
   ],
   "source": [
    "star_wars_df.columns.values[3:9]"
   ]
  },
  {
   "cell_type": "markdown",
   "metadata": {},
   "source": [
    "Let's change the columns values as True and False. `True` if the person has watched the movie and `False` if the person has not.\n",
    "\n",
    "`{\n",
    "\"Star Wars: Episode I  The Phantom Menace\": True,\n",
    "    np.NaN: False\n",
    "}`"
   ]
  },
  {
   "cell_type": "code",
   "execution_count": 115,
   "metadata": {},
   "outputs": [
    {
     "name": "stdout",
     "output_type": "stream",
     "text": [
      "Before mapping the values of the columns\n",
      "\n",
      "Star Wars: Episode I  The Phantom Menace    673\n",
      "Name: seen_1, dtype: int64\n",
      "\n",
      "Star Wars: Episode II  Attack of the Clones    571\n",
      "Name: seen_2, dtype: int64\n",
      "\n",
      "Star Wars: Episode III  Revenge of the Sith    550\n",
      "Name: seen_3, dtype: int64\n",
      "\n",
      "Star Wars: Episode IV  A New Hope    607\n",
      "Name: seen_4, dtype: int64\n",
      "\n",
      "Star Wars: Episode V The Empire Strikes Back    758\n",
      "Name: seen_5, dtype: int64\n",
      "\n",
      "Star Wars: Episode VI Return of the Jedi    738\n",
      "Name: seen_6, dtype: int64\n",
      "\n"
     ]
    }
   ],
   "source": [
    "print('Before mapping the values of the columns')\n",
    "print('')\n",
    "for col in star_wars_df.columns.values[3:9]:\n",
    "    print(star_wars_df[col].value_counts())\n",
    "    print('')"
   ]
  },
  {
   "cell_type": "code",
   "execution_count": 116,
   "metadata": {},
   "outputs": [],
   "source": [
    "#let's make the mapping dictionary for each one\n",
    "# here seen_1 means watched the Star Wars: Episode I. \n",
    "# Reminder: boolean values this makes our analysis easier\n",
    "# due to the behaviour of pandas to Boolean values.\n",
    "watched_dict = {'seen_1':{\n",
    "    \"Star Wars: Episode I  The Phantom Menace\": True,\n",
    "    np.NaN: False\n",
    "},\n",
    "\n",
    "'seen_2':{\n",
    "    \"Star Wars: Episode II  Attack of the Clones\": True,\n",
    "    np.NaN: False\n",
    "},\n",
    "\n",
    "'seen_3':{\n",
    "    \"Star Wars: Episode III  Revenge of the Sith\": True,\n",
    "    np.NaN: False\n",
    "},\n",
    "\n",
    "'seen_4':{\n",
    "    \"Star Wars: Episode IV  A New Hope\": True,\n",
    "    np.NaN: False\n",
    "},\n",
    "\n",
    "'seen_5':{\n",
    "    \"Star Wars: Episode V The Empire Strikes Back\": True,\n",
    "    np.NaN: False\n",
    "},\n",
    "\n",
    "'seen_6':{\n",
    "    \"Star Wars: Episode VI Return of the Jedi\": True,\n",
    "    np.NaN: False\n",
    "}\n",
    "               }"
   ]
  },
  {
   "cell_type": "code",
   "execution_count": 117,
   "metadata": {},
   "outputs": [
    {
     "name": "stdout",
     "output_type": "stream",
     "text": [
      "seen_1\n",
      "{'Star Wars: Episode I  The Phantom Menace': True, nan: False}\n",
      "\n",
      "seen_2\n",
      "{'Star Wars: Episode II  Attack of the Clones': True, nan: False}\n",
      "\n",
      "seen_3\n",
      "{'Star Wars: Episode III  Revenge of the Sith': True, nan: False}\n",
      "\n",
      "seen_4\n",
      "{'Star Wars: Episode IV  A New Hope': True, nan: False}\n",
      "\n",
      "seen_5\n",
      "{'Star Wars: Episode V The Empire Strikes Back': True, nan: False}\n",
      "\n",
      "seen_6\n",
      "{'Star Wars: Episode VI Return of the Jedi': True, nan: False}\n",
      "\n"
     ]
    }
   ],
   "source": [
    "for key,value in watched_dict.items():\n",
    "    print(key)\n",
    "    print(value)\n",
    "    print('')"
   ]
  },
  {
   "cell_type": "code",
   "execution_count": 118,
   "metadata": {},
   "outputs": [
    {
     "data": {
      "text/plain": [
       "{'Star Wars: Episode I  The Phantom Menace': True, nan: False}"
      ]
     },
     "execution_count": 118,
     "metadata": {},
     "output_type": "execute_result"
    }
   ],
   "source": [
    "watched_dict['seen_1']"
   ]
  },
  {
   "cell_type": "code",
   "execution_count": 119,
   "metadata": {},
   "outputs": [],
   "source": [
    "for col in star_wars_df.columns.values[3:9]:\n",
    "    star_wars_df[col] = star_wars_df[col].map(watched_dict[col])"
   ]
  },
  {
   "cell_type": "code",
   "execution_count": 120,
   "metadata": {},
   "outputs": [
    {
     "name": "stdout",
     "output_type": "stream",
     "text": [
      "After mapping the values of the columns\n",
      "\n",
      "True     673\n",
      "False    513\n",
      "Name: seen_1, dtype: int64\n",
      "\n",
      "False    615\n",
      "True     571\n",
      "Name: seen_2, dtype: int64\n",
      "\n",
      "False    636\n",
      "True     550\n",
      "Name: seen_3, dtype: int64\n",
      "\n",
      "True     607\n",
      "False    579\n",
      "Name: seen_4, dtype: int64\n",
      "\n",
      "True     758\n",
      "False    428\n",
      "Name: seen_5, dtype: int64\n",
      "\n",
      "True     738\n",
      "False    448\n",
      "Name: seen_6, dtype: int64\n",
      "\n"
     ]
    }
   ],
   "source": [
    "print('After mapping the values of the columns')\n",
    "print('')\n",
    "for col in star_wars_df.columns.values[3:9]:\n",
    "    print(star_wars_df[col].value_counts())\n",
    "    print('')"
   ]
  },
  {
   "cell_type": "markdown",
   "metadata": {},
   "source": [
    "Lets do the same for the next question about peopel's opinion about the Sequels."
   ]
  },
  {
   "cell_type": "code",
   "execution_count": 121,
   "metadata": {},
   "outputs": [
    {
     "name": "stdout",
     "output_type": "stream",
     "text": [
      "Please rank the Star Wars films in order of preference with 1 being your favorite film in the franchise and 6 being your least favorite film.\n",
      "Unnamed: 10\n",
      "Unnamed: 11\n",
      "Unnamed: 12\n",
      "Unnamed: 13\n",
      "Unnamed: 14\n"
     ]
    }
   ],
   "source": [
    "for col in star_wars_df.columns[9:15]:\n",
    "    print(col)"
   ]
  },
  {
   "cell_type": "code",
   "execution_count": 122,
   "metadata": {},
   "outputs": [],
   "source": [
    "# change the ranking to numeric\n",
    "star_wars_df[star_wars_df.columns[9:15]] = \\\n",
    "            star_wars_df[star_wars_df.columns[9:15]].astype(float)"
   ]
  },
  {
   "cell_type": "code",
   "execution_count": 123,
   "metadata": {},
   "outputs": [
    {
     "data": {
      "text/plain": [
       "array(['Please rank the Star Wars films in order of preference with 1 being your favorite film in the franchise and 6 being your least favorite film.',\n",
       "       'Unnamed: 10', 'Unnamed: 11', 'Unnamed: 12', 'Unnamed: 13',\n",
       "       'Unnamed: 14'], dtype=object)"
      ]
     },
     "execution_count": 123,
     "metadata": {},
     "output_type": "execute_result"
    }
   ],
   "source": [
    "star_wars_df.columns.values[9:15]"
   ]
  },
  {
   "cell_type": "code",
   "execution_count": 124,
   "metadata": {},
   "outputs": [],
   "source": [
    "question_2 = {\n",
    "'Please rank the Star Wars films in order of preference with 1 being your favorite film in the franchise and 6 being your least favorite film.':'ranking_1',\n",
    "    'Unnamed: 10':'ranking_2', \n",
    "    'Unnamed: 11':'ranking_3', \n",
    "    'Unnamed: 12':'ranking_4', \n",
    "    'Unnamed: 13':'ranking_5',\n",
    "    'Unnamed: 14':'ranking_6'}"
   ]
  },
  {
   "cell_type": "code",
   "execution_count": 125,
   "metadata": {},
   "outputs": [
    {
     "data": {
      "text/plain": [
       "Index(['ranking_1', 'ranking_2', 'ranking_3', 'ranking_4', 'ranking_5',\n",
       "       'ranking_6'],\n",
       "      dtype='object')"
      ]
     },
     "execution_count": 125,
     "metadata": {},
     "output_type": "execute_result"
    }
   ],
   "source": [
    "for col in star_wars_df.columns.values[9:15]:\n",
    "    star_wars_df = star_wars_df.rename(columns={col:question_2[col]})\n",
    "    \n",
    "star_wars_df.columns[9:15]"
   ]
  },
  {
   "cell_type": "markdown",
   "metadata": {},
   "source": [
    "###### Find the highest-Ranked Movie"
   ]
  },
  {
   "cell_type": "code",
   "execution_count": 126,
   "metadata": {},
   "outputs": [],
   "source": [
    "ranking_mean =star_wars_df[star_wars_df.columns.values[9:15]].mean()"
   ]
  },
  {
   "cell_type": "code",
   "execution_count": 127,
   "metadata": {},
   "outputs": [
    {
     "data": {
      "text/plain": [
       "Index(['ranking_1', 'ranking_2', 'ranking_3', 'ranking_4', 'ranking_5',\n",
       "       'ranking_6'],\n",
       "      dtype='object')"
      ]
     },
     "execution_count": 127,
     "metadata": {},
     "output_type": "execute_result"
    }
   ],
   "source": [
    "ranking_mean.index"
   ]
  },
  {
   "cell_type": "code",
   "execution_count": 128,
   "metadata": {},
   "outputs": [
    {
     "data": {
      "text/plain": [
       "array([3.73293413, 4.08732057, 4.34131737, 3.27272727, 2.51315789,\n",
       "       3.04784689])"
      ]
     },
     "execution_count": 128,
     "metadata": {},
     "output_type": "execute_result"
    }
   ],
   "source": [
    "ranking_mean.values"
   ]
  },
  {
   "cell_type": "code",
   "execution_count": 129,
   "metadata": {},
   "outputs": [],
   "source": [
    "import matplotlib.pyplot as plt"
   ]
  },
  {
   "cell_type": "code",
   "execution_count": 130,
   "metadata": {},
   "outputs": [
    {
     "data": {
      "image/png": "[encoded data removed]",
      "text/plain": [
       "<Figure size 432x288 with 1 Axes>"
      ]
     },
     "metadata": {
      "needs_background": "light"
     },
     "output_type": "display_data"
    }
   ],
   "source": [
    "plt.bar(ranking_mean.index,ranking_mean.values)\n",
    "plt.title('Ranking of the Movies')\n",
    "plt.ylabel('Mean values')\n",
    "plt.show()"
   ]
  },
  {
   "cell_type": "code",
   "execution_count": 137,
   "metadata": {},
   "outputs": [
    {
     "data": {
      "text/plain": [
       "'Please rank the Star Wars films in order of preference with 1 being your favorite film in the franchise and 6 being your least favorite film.'"
      ]
     },
     "execution_count": 137,
     "metadata": {},
     "output_type": "execute_result"
    }
   ],
   "source": [
    "# putting all the keys & values in the list\n",
    "key_list =list(question_2.keys())\n",
    "val_list = list(question_2.values())\n",
    "# extracting the key based upon the value\n",
    "key_list[val_list.index('ranking_1')]"
   ]
  },
  {
   "cell_type": "markdown",
   "metadata": {},
   "source": [
    "So, lower ranking here means ranked higher in favorite list. This means, `Star Wars: Episode V` is most liked movie in the sequel."
   ]
  },
  {
   "cell_type": "code",
   "execution_count": 139,
   "metadata": {},
   "outputs": [
    {
     "data": {
      "text/plain": [
       "{'Star Wars: Episode V The Empire Strikes Back': True, nan: False}"
      ]
     },
     "execution_count": 139,
     "metadata": {},
     "output_type": "execute_result"
    }
   ],
   "source": [
    "watched_dict['seen_5']"
   ]
  },
  {
   "cell_type": "markdown",
   "metadata": {},
   "source": [
    "###### Finding The Most Viewed Movie"
   ]
  },
  {
   "cell_type": "code",
   "execution_count": 45,
   "metadata": {},
   "outputs": [
    {
     "data": {
      "text/plain": [
       "seen_1    673\n",
       "seen_2    571\n",
       "seen_3    550\n",
       "seen_4    607\n",
       "seen_5    758\n",
       "seen_6    738\n",
       "dtype: int64"
      ]
     },
     "execution_count": 45,
     "metadata": {},
     "output_type": "execute_result"
    }
   ],
   "source": [
    "popular_movies = star_wars_df[star_wars_df.columns[3:9]].sum()\n",
    "popular_movies"
   ]
  },
  {
   "cell_type": "code",
   "execution_count": 56,
   "metadata": {},
   "outputs": [
    {
     "data": {
      "image/png": "[encoded data removed]",
      "text/plain": [
       "<Figure size 432x288 with 1 Axes>"
      ]
     },
     "metadata": {
      "needs_background": "light"
     },
     "output_type": "display_data"
    }
   ],
   "source": [
    "plt.bar(popular_movies.index,popular_movies.values)\n",
    "plt.title('Most Viewed Sequel of Star Wars')\n",
    "plt.ylabel('Total number of viewers')\n",
    "plt.xlabel('Movies')\n",
    "plt.show()"
   ]
  },
  {
   "cell_type": "code",
   "execution_count": 89,
   "metadata": {},
   "outputs": [
    {
     "data": {
      "text/plain": [
       "({'Star Wars: Episode V The Empire Strikes Back': True, nan: False},\n",
       " {'Star Wars: Episode III  Revenge of the Sith': True, nan: False})"
      ]
     },
     "execution_count": 89,
     "metadata": {},
     "output_type": "execute_result"
    }
   ],
   "source": [
    "watched_dict['seen_5'],watched_dict['seen_3']"
   ]
  },
  {
   "cell_type": "markdown",
   "metadata": {},
   "source": [
    "`Star Wars: Episode V The Empire Strikes Back` is the most viewed sequel of Star Wars whereas `Star Wars: Episode III Revenge of the Sith` is the least viewed among the them."
   ]
  },
  {
   "cell_type": "markdown",
   "metadata": {},
   "source": [
    "###### Exploring the Data by Binary Segments\n",
    "Let's grind our analysis further by sex. "
   ]
  },
  {
   "cell_type": "code",
   "execution_count": 47,
   "metadata": {},
   "outputs": [],
   "source": [
    "males_df = star_wars_df[star_wars_df[\"Gender\"] == \"Male\"]\n",
    "females_df = star_wars_df[star_wars_df[\"Gender\"] == \"Female\"]"
   ]
  },
  {
   "cell_type": "code",
   "execution_count": 48,
   "metadata": {},
   "outputs": [],
   "source": [
    "ranking_male =males_df[males_df.columns.values[9:15]].mean()\n",
    "ranking_female =females_df[females_df.columns.values[9:15]].mean()"
   ]
  },
  {
   "cell_type": "code",
   "execution_count": 159,
   "metadata": {},
   "outputs": [
    {
     "name": "stdout",
     "output_type": "stream",
     "text": [
      "<class 'pandas.core.frame.DataFrame'>\n",
      "Int64Index: 497 entries, 1 to 1178\n",
      "Data columns (total 6 columns):\n",
      "ranking_1    423 non-null float64\n",
      "ranking_2    423 non-null float64\n",
      "ranking_3    422 non-null float64\n",
      "ranking_4    423 non-null float64\n",
      "ranking_5    423 non-null float64\n",
      "ranking_6    423 non-null float64\n",
      "dtypes: float64(6)\n",
      "memory usage: 27.2 KB\n"
     ]
    }
   ],
   "source": [
    "# you can see there are 74 mising values on each columns expect \n",
    "# for Episode 3 which has one extra\n",
    "males_df.iloc[:,9:15].info()"
   ]
  },
  {
   "cell_type": "code",
   "execution_count": 160,
   "metadata": {},
   "outputs": [
    {
     "name": "stdout",
     "output_type": "stream",
     "text": [
      "<class 'pandas.core.frame.DataFrame'>\n",
      "Int64Index: 549 entries, 112 to 1186\n",
      "Data columns (total 6 columns):\n",
      "ranking_1    396 non-null float64\n",
      "ranking_2    397 non-null float64\n",
      "ranking_3    397 non-null float64\n",
      "ranking_4    397 non-null float64\n",
      "ranking_5    397 non-null float64\n",
      "ranking_6    397 non-null float64\n",
      "dtypes: float64(6)\n",
      "memory usage: 30.0 KB\n"
     ]
    }
   ],
   "source": [
    "# you can see there are 152 mising values on each columns expect \n",
    "# for Episode 1 which has one extra\n",
    "females_df.iloc[:,9:15].info()"
   ]
  },
  {
   "cell_type": "code",
   "execution_count": 49,
   "metadata": {
    "scrolled": false
   },
   "outputs": [
    {
     "data": {
      "image/png": "[encoded data removed]",
      "text/plain": [
       "<Figure size 720x288 with 2 Axes>"
      ]
     },
     "metadata": {
      "needs_background": "light"
     },
     "output_type": "display_data"
    }
   ],
   "source": [
    "# plotting both the male and female \n",
    "plt.figure(figsize=(10,4))\n",
    "plt.suptitle('Comparing the ranking of moveis by Male vs Female')\n",
    "\n",
    "plt.subplot(1,2,1)\n",
    "plt.bar(ranking_male.index,ranking_male.values)\n",
    "plt.title('Ranking given by Male viewers')\n",
    "plt.xticks(rotation=15)\n",
    "plt.ylabel('Mean values')\n",
    "\n",
    "plt.subplot(1,2,2)\n",
    "plt.bar(ranking_female.index,ranking_female.values)\n",
    "plt.title('Ranking given by Female viewers')\n",
    "plt.xticks(rotation=15)\n",
    "plt.ylabel('Mean values')\n",
    "\n",
    "plt.show()"
   ]
  },
  {
   "cell_type": "code",
   "execution_count": 163,
   "metadata": {},
   "outputs": [
    {
     "data": {
      "text/plain": [
       "(ranking_1    4.037825\n",
       " ranking_2    4.224586\n",
       " ranking_3    4.274882\n",
       " ranking_4    2.997636\n",
       " ranking_5    2.458629\n",
       " ranking_6    3.002364\n",
       " dtype: float64, ranking_1    3.429293\n",
       " ranking_2    3.954660\n",
       " ranking_3    4.418136\n",
       " ranking_4    3.544081\n",
       " ranking_5    2.569270\n",
       " ranking_6    3.078086\n",
       " dtype: float64)"
      ]
     },
     "execution_count": 163,
     "metadata": {},
     "output_type": "execute_result"
    }
   ],
   "source": [
    "ranking_male,ranking_female"
   ]
  },
  {
   "cell_type": "markdown",
   "metadata": {},
   "source": [
    "We see, exact same behaviour from both parties Episode V was no-brainer to be the most liked. But there is close battle for second and third place, majority of female group thinks Episode VI as the second while Episode IV wins the second place in male's opinion.\n",
    "\n",
    "For bottom 3 there is close race in male's category while there is distinct difference among them in the female's.\n",
    "\n",
    "Note: Lower values means higher rank."
   ]
  },
  {
   "cell_type": "code",
   "execution_count": 50,
   "metadata": {},
   "outputs": [],
   "source": [
    "popular_view_by_male =males_df[males_df.columns.values[3:9]].sum()\n",
    "popular_view_by_female =females_df[females_df.columns.values[3:9]].sum()"
   ]
  },
  {
   "cell_type": "code",
   "execution_count": 164,
   "metadata": {
    "scrolled": true
   },
   "outputs": [
    {
     "data": {
      "image/png": "[encoded data removed]",
      "text/plain": [
       "<Figure size 720x288 with 2 Axes>"
      ]
     },
     "metadata": {
      "needs_background": "light"
     },
     "output_type": "display_data"
    }
   ],
   "source": [
    "# plotting both the male and female \n",
    "plt.figure(figsize=(10,4))\n",
    "plt.suptitle('Comparing the Popularity of movies by Male vs Female')\n",
    "\n",
    "plt.subplot(1,2,1)\n",
    "plt.bar(popular_view_by_male.index,popular_view_by_male.values)\n",
    "plt.title('Popular movies acc. Male viewers')\n",
    "plt.xticks(rotation=15)\n",
    "plt.ylabel('Total no. of viewers')\n",
    "\n",
    "plt.subplot(1,2,2)\n",
    "plt.bar(popular_view_by_female.index,popular_view_by_female.values)\n",
    "plt.title('Popular movies acc. Female viewers')\n",
    "plt.xticks(rotation=15)\n",
    "plt.ylabel('Total no. of viewers')\n",
    "\n",
    "plt.show()"
   ]
  },
  {
   "cell_type": "markdown",
   "metadata": {},
   "source": [
    "Most watched movie undoubtedly is Episode V while least watched is Episode III according the data. Atleast,that's what the Survey data suggests here."
   ]
  },
  {
   "cell_type": "markdown",
   "metadata": {},
   "source": [
    "###### Next Steps\n",
    "\n",
    "Potential next steps:\n",
    "- Segmenting the data based on columns like `Education`,`Location`,`Household Income` see the different result we have obtained now.\n",
    "\n",
    "- Categories the age group and see if there is any relationship with the movies sequels.\n",
    "  \n",
    "- Clustering the data to understand the relationship between different respondent."
   ]
  },
  {
   "cell_type": "code",
   "execution_count": 165,
   "metadata": {},
   "outputs": [
    {
     "data": {
      "text/plain": [
       "Some college or Associate degree    328\n",
       "Bachelor degree                     321\n",
       "Graduate degree                     275\n",
       "NaN                                 150\n",
       "High school degree                  105\n",
       "Less than high school degree          7\n",
       "Name: Education, dtype: int64"
      ]
     },
     "execution_count": 165,
     "metadata": {},
     "output_type": "execute_result"
    }
   ],
   "source": [
    "star_wars_df['Education'].value_counts(dropna=False)"
   ]
  },
  {
   "cell_type": "code",
   "execution_count": 167,
   "metadata": {},
   "outputs": [
    {
     "data": {
      "text/plain": [
       "East North Central    181\n",
       "Pacific               175\n",
       "South Atlantic        170\n",
       "NaN                   143\n",
       "Middle Atlantic       122\n",
       "West South Central    110\n",
       "West North Central     93\n",
       "Mountain               79\n",
       "New England            75\n",
       "East South Central     38\n",
       "Name: Location (Census Region), dtype: int64"
      ]
     },
     "execution_count": 167,
     "metadata": {},
     "output_type": "execute_result"
    }
   ],
   "source": [
    "star_wars_df['Location (Census Region)'].value_counts(dropna=False)"
   ]
  },
  {
   "cell_type": "code",
   "execution_count": 172,
   "metadata": {},
   "outputs": [
    {
     "data": {
      "text/plain": [
       "NaN                    328\n",
       "$50,000 - $99,999      298\n",
       "$25,000 - $49,999      186\n",
       "$100,000 - $149,999    141\n",
       "$0 - $24,999           138\n",
       "$150,000+               95\n",
       "Name: Household Income, dtype: int64"
      ]
     },
     "execution_count": 172,
     "metadata": {},
     "output_type": "execute_result"
    }
   ],
   "source": [
    "star_wars_df['Household Income'].value_counts(dropna=False)"
   ]
  },
  {
   "cell_type": "code",
   "execution_count": 177,
   "metadata": {},
   "outputs": [
    {
     "data": {
      "text/plain": [
       "45-60    291\n",
       "> 60     269\n",
       "30-44    268\n",
       "18-29    218\n",
       "NaN      140\n",
       "Name: Age, dtype: int64"
      ]
     },
     "execution_count": 177,
     "metadata": {},
     "output_type": "execute_result"
    }
   ],
   "source": [
    "star_wars_df['Age'].value_counts(dropna=False)"
   ]
  },
  {
   "cell_type": "markdown",
   "metadata": {},
   "source": [
    "Now, let's investigate the people's liking of the sequels based upon the `Age` and `Education`."
   ]
  },
  {
   "cell_type": "code",
   "execution_count": 186,
   "metadata": {},
   "outputs": [
    {
     "data": {
      "text/html": [
       "<div>\n",
       "<style scoped>\n",
       "    .dataframe tbody tr th:only-of-type {\n",
       "        vertical-align: middle;\n",
       "    }\n",
       "\n",
       "    .dataframe tbody tr th {\n",
       "        vertical-align: top;\n",
       "    }\n",
       "\n",
       "    .dataframe thead th {\n",
       "        text-align: right;\n",
       "    }\n",
       "</style>\n",
       "<table border=\"1\" class=\"dataframe\">\n",
       "  <thead>\n",
       "    <tr style=\"text-align: right;\">\n",
       "      <th></th>\n",
       "      <th>RespondentID</th>\n",
       "      <th>Have you seen any of the 6 films in the Star Wars franchise?</th>\n",
       "      <th>seen_1</th>\n",
       "      <th>seen_2</th>\n",
       "      <th>seen_3</th>\n",
       "      <th>seen_4</th>\n",
       "      <th>seen_5</th>\n",
       "      <th>seen_6</th>\n",
       "      <th>ranking_1</th>\n",
       "      <th>ranking_2</th>\n",
       "      <th>ranking_3</th>\n",
       "      <th>ranking_4</th>\n",
       "      <th>ranking_5</th>\n",
       "      <th>ranking_6</th>\n",
       "    </tr>\n",
       "    <tr>\n",
       "      <th>Age</th>\n",
       "      <th></th>\n",
       "      <th></th>\n",
       "      <th></th>\n",
       "      <th></th>\n",
       "      <th></th>\n",
       "      <th></th>\n",
       "      <th></th>\n",
       "      <th></th>\n",
       "      <th></th>\n",
       "      <th></th>\n",
       "      <th></th>\n",
       "      <th></th>\n",
       "      <th></th>\n",
       "      <th></th>\n",
       "    </tr>\n",
       "  </thead>\n",
       "  <tbody>\n",
       "    <tr>\n",
       "      <th>18-29</th>\n",
       "      <td>3.290464e+09</td>\n",
       "      <td>0.825688</td>\n",
       "      <td>0.733945</td>\n",
       "      <td>0.678899</td>\n",
       "      <td>0.665138</td>\n",
       "      <td>0.697248</td>\n",
       "      <td>0.733945</td>\n",
       "      <td>0.733945</td>\n",
       "      <td>4.100000</td>\n",
       "      <td>4.100000</td>\n",
       "      <td>3.966667</td>\n",
       "      <td>2.994444</td>\n",
       "      <td>2.722222</td>\n",
       "      <td>3.116667</td>\n",
       "    </tr>\n",
       "    <tr>\n",
       "      <th>30-44</th>\n",
       "      <td>3.290218e+09</td>\n",
       "      <td>0.772388</td>\n",
       "      <td>0.652985</td>\n",
       "      <td>0.589552</td>\n",
       "      <td>0.567164</td>\n",
       "      <td>0.656716</td>\n",
       "      <td>0.735075</td>\n",
       "      <td>0.735075</td>\n",
       "      <td>4.347826</td>\n",
       "      <td>4.309179</td>\n",
       "      <td>4.475728</td>\n",
       "      <td>2.932367</td>\n",
       "      <td>2.212560</td>\n",
       "      <td>2.714976</td>\n",
       "    </tr>\n",
       "    <tr>\n",
       "      <th>45-60</th>\n",
       "      <td>3.289923e+09</td>\n",
       "      <td>0.824742</td>\n",
       "      <td>0.621993</td>\n",
       "      <td>0.508591</td>\n",
       "      <td>0.487973</td>\n",
       "      <td>0.567010</td>\n",
       "      <td>0.756014</td>\n",
       "      <td>0.721649</td>\n",
       "      <td>3.541667</td>\n",
       "      <td>4.170833</td>\n",
       "      <td>4.537500</td>\n",
       "      <td>3.308333</td>\n",
       "      <td>2.437500</td>\n",
       "      <td>3.004167</td>\n",
       "    </tr>\n",
       "    <tr>\n",
       "      <th>&gt; 60</th>\n",
       "      <td>3.290001e+09</td>\n",
       "      <td>0.717472</td>\n",
       "      <td>0.531599</td>\n",
       "      <td>0.394052</td>\n",
       "      <td>0.371747</td>\n",
       "      <td>0.386617</td>\n",
       "      <td>0.624535</td>\n",
       "      <td>0.587361</td>\n",
       "      <td>3.010417</td>\n",
       "      <td>3.761658</td>\n",
       "      <td>4.316062</td>\n",
       "      <td>3.808290</td>\n",
       "      <td>2.730570</td>\n",
       "      <td>3.357513</td>\n",
       "    </tr>\n",
       "  </tbody>\n",
       "</table>\n",
       "</div>"
      ],
      "text/plain": [
       "       RespondentID  \\\n",
       "Age                   \n",
       "18-29  3.290464e+09   \n",
       "30-44  3.290218e+09   \n",
       "45-60  3.289923e+09   \n",
       "> 60   3.290001e+09   \n",
       "\n",
       "       Have you seen any of the 6 films in the Star Wars franchise?    seen_1  \\\n",
       "Age                                                                             \n",
       "18-29                                           0.825688             0.733945   \n",
       "30-44                                           0.772388             0.652985   \n",
       "45-60                                           0.824742             0.621993   \n",
       "> 60                                            0.717472             0.531599   \n",
       "\n",
       "         seen_2    seen_3    seen_4    seen_5    seen_6  ranking_1  ranking_2  \\\n",
       "Age                                                                             \n",
       "18-29  0.678899  0.665138  0.697248  0.733945  0.733945   4.100000   4.100000   \n",
       "30-44  0.589552  0.567164  0.656716  0.735075  0.735075   4.347826   4.309179   \n",
       "45-60  0.508591  0.487973  0.567010  0.756014  0.721649   3.541667   4.170833   \n",
       "> 60   0.394052  0.371747  0.386617  0.624535  0.587361   3.010417   3.761658   \n",
       "\n",
       "       ranking_3  ranking_4  ranking_5  ranking_6  \n",
       "Age                                                \n",
       "18-29   3.966667   2.994444   2.722222   3.116667  \n",
       "30-44   4.475728   2.932367   2.212560   2.714976  \n",
       "45-60   4.537500   3.308333   2.437500   3.004167  \n",
       "> 60    4.316062   3.808290   2.730570   3.357513  "
      ]
     },
     "execution_count": 186,
     "metadata": {},
     "output_type": "execute_result"
    }
   ],
   "source": [
    "df_age = star_wars_df.groupby(by=['Age']).mean()\n",
    "df_age"
   ]
  },
  {
   "cell_type": "code",
   "execution_count": 243,
   "metadata": {},
   "outputs": [],
   "source": [
    "# color mapping\n",
    "clr_mapping = ['skyblue','peachpuff','lightgreen','salmon','grey',\n",
    "         'wheat']"
   ]
  },
  {
   "cell_type": "code",
   "execution_count": 244,
   "metadata": {},
   "outputs": [
    {
     "data": {
      "image/png": "[encoded data removed]",
      "text/plain": [
       "<Figure size 576x432 with 1 Axes>"
      ]
     },
     "metadata": {
      "needs_background": "light"
     },
     "output_type": "display_data"
    }
   ],
   "source": [
    "# color mapping\n",
    "# clr_mapping = ['skyblue','peachpuff','lightgreen','salmon','lightcyan',\n",
    "#          'wheat']\n",
    "\n",
    "df_age.iloc[:,8:].plot.bar(rot=0,figsize=(8,6),\n",
    "                        title='Ranking of sequels according to Age group',\n",
    "                          color=clr_mapping)\n",
    "# Put the legend out of the figure\n",
    "plt.legend(bbox_to_anchor=(1.05, 1), loc=2, borderaxespad=0.,\n",
    "          fontsize=10)\n",
    "plt.show()"
   ]
  },
  {
   "cell_type": "markdown",
   "metadata": {},
   "source": [
    "Younger people like first two Episode more than the rest while Epiosde III is most liked by elder people. Surprisingly, Episode V which is most liked on average by people is least liked by all age group."
   ]
  },
  {
   "cell_type": "code",
   "execution_count": 217,
   "metadata": {},
   "outputs": [
    {
     "data": {
      "text/html": [
       "<div>\n",
       "<style scoped>\n",
       "    .dataframe tbody tr th:only-of-type {\n",
       "        vertical-align: middle;\n",
       "    }\n",
       "\n",
       "    .dataframe tbody tr th {\n",
       "        vertical-align: top;\n",
       "    }\n",
       "\n",
       "    .dataframe thead th {\n",
       "        text-align: right;\n",
       "    }\n",
       "</style>\n",
       "<table border=\"1\" class=\"dataframe\">\n",
       "  <thead>\n",
       "    <tr style=\"text-align: right;\">\n",
       "      <th></th>\n",
       "      <th>RespondentID</th>\n",
       "      <th>Have you seen any of the 6 films in the Star Wars franchise?</th>\n",
       "      <th>seen_1</th>\n",
       "      <th>seen_2</th>\n",
       "      <th>seen_3</th>\n",
       "      <th>seen_4</th>\n",
       "      <th>seen_5</th>\n",
       "      <th>seen_6</th>\n",
       "      <th>ranking_1</th>\n",
       "      <th>ranking_2</th>\n",
       "      <th>ranking_3</th>\n",
       "      <th>ranking_4</th>\n",
       "      <th>ranking_5</th>\n",
       "      <th>ranking_6</th>\n",
       "    </tr>\n",
       "    <tr>\n",
       "      <th>Education</th>\n",
       "      <th></th>\n",
       "      <th></th>\n",
       "      <th></th>\n",
       "      <th></th>\n",
       "      <th></th>\n",
       "      <th></th>\n",
       "      <th></th>\n",
       "      <th></th>\n",
       "      <th></th>\n",
       "      <th></th>\n",
       "      <th></th>\n",
       "      <th></th>\n",
       "      <th></th>\n",
       "      <th></th>\n",
       "    </tr>\n",
       "  </thead>\n",
       "  <tbody>\n",
       "    <tr>\n",
       "      <th>Bachelor degree</th>\n",
       "      <td>3.290151e+09</td>\n",
       "      <td>0.816199</td>\n",
       "      <td>0.641745</td>\n",
       "      <td>0.529595</td>\n",
       "      <td>0.507788</td>\n",
       "      <td>0.607477</td>\n",
       "      <td>0.757009</td>\n",
       "      <td>0.728972</td>\n",
       "      <td>3.828244</td>\n",
       "      <td>4.290076</td>\n",
       "      <td>4.521073</td>\n",
       "      <td>3.114504</td>\n",
       "      <td>2.309160</td>\n",
       "      <td>2.931298</td>\n",
       "    </tr>\n",
       "    <tr>\n",
       "      <th>Graduate degree</th>\n",
       "      <td>3.289917e+09</td>\n",
       "      <td>0.821818</td>\n",
       "      <td>0.650909</td>\n",
       "      <td>0.541818</td>\n",
       "      <td>0.505455</td>\n",
       "      <td>0.592727</td>\n",
       "      <td>0.752727</td>\n",
       "      <td>0.730909</td>\n",
       "      <td>3.822222</td>\n",
       "      <td>4.225664</td>\n",
       "      <td>4.500000</td>\n",
       "      <td>3.199115</td>\n",
       "      <td>2.323009</td>\n",
       "      <td>2.920354</td>\n",
       "    </tr>\n",
       "    <tr>\n",
       "      <th>High school degree</th>\n",
       "      <td>3.290433e+09</td>\n",
       "      <td>0.676190</td>\n",
       "      <td>0.542857</td>\n",
       "      <td>0.457143</td>\n",
       "      <td>0.457143</td>\n",
       "      <td>0.504762</td>\n",
       "      <td>0.580952</td>\n",
       "      <td>0.571429</td>\n",
       "      <td>3.802817</td>\n",
       "      <td>3.746479</td>\n",
       "      <td>4.126761</td>\n",
       "      <td>3.211268</td>\n",
       "      <td>2.873239</td>\n",
       "      <td>3.239437</td>\n",
       "    </tr>\n",
       "    <tr>\n",
       "      <th>Less than high school degree</th>\n",
       "      <td>3.289831e+09</td>\n",
       "      <td>0.428571</td>\n",
       "      <td>0.428571</td>\n",
       "      <td>0.428571</td>\n",
       "      <td>0.428571</td>\n",
       "      <td>0.428571</td>\n",
       "      <td>0.428571</td>\n",
       "      <td>0.428571</td>\n",
       "      <td>5.000000</td>\n",
       "      <td>5.333333</td>\n",
       "      <td>3.666667</td>\n",
       "      <td>2.666667</td>\n",
       "      <td>1.000000</td>\n",
       "      <td>3.333333</td>\n",
       "    </tr>\n",
       "    <tr>\n",
       "      <th>Some college or Associate degree</th>\n",
       "      <td>3.290179e+09</td>\n",
       "      <td>0.774390</td>\n",
       "      <td>0.643293</td>\n",
       "      <td>0.567073</td>\n",
       "      <td>0.557927</td>\n",
       "      <td>0.548780</td>\n",
       "      <td>0.692073</td>\n",
       "      <td>0.679878</td>\n",
       "      <td>3.551181</td>\n",
       "      <td>3.885827</td>\n",
       "      <td>4.102362</td>\n",
       "      <td>3.503937</td>\n",
       "      <td>2.783465</td>\n",
       "      <td>3.173228</td>\n",
       "    </tr>\n",
       "  </tbody>\n",
       "</table>\n",
       "</div>"
      ],
      "text/plain": [
       "                                  RespondentID  \\\n",
       "Education                                        \n",
       "Bachelor degree                   3.290151e+09   \n",
       "Graduate degree                   3.289917e+09   \n",
       "High school degree                3.290433e+09   \n",
       "Less than high school degree      3.289831e+09   \n",
       "Some college or Associate degree  3.290179e+09   \n",
       "\n",
       "                                  Have you seen any of the 6 films in the Star Wars franchise?  \\\n",
       "Education                                                                                        \n",
       "Bachelor degree                                                            0.816199              \n",
       "Graduate degree                                                            0.821818              \n",
       "High school degree                                                         0.676190              \n",
       "Less than high school degree                                               0.428571              \n",
       "Some college or Associate degree                                           0.774390              \n",
       "\n",
       "                                    seen_1    seen_2    seen_3    seen_4  \\\n",
       "Education                                                                  \n",
       "Bachelor degree                   0.641745  0.529595  0.507788  0.607477   \n",
       "Graduate degree                   0.650909  0.541818  0.505455  0.592727   \n",
       "High school degree                0.542857  0.457143  0.457143  0.504762   \n",
       "Less than high school degree      0.428571  0.428571  0.428571  0.428571   \n",
       "Some college or Associate degree  0.643293  0.567073  0.557927  0.548780   \n",
       "\n",
       "                                    seen_5    seen_6  ranking_1  ranking_2  \\\n",
       "Education                                                                    \n",
       "Bachelor degree                   0.757009  0.728972   3.828244   4.290076   \n",
       "Graduate degree                   0.752727  0.730909   3.822222   4.225664   \n",
       "High school degree                0.580952  0.571429   3.802817   3.746479   \n",
       "Less than high school degree      0.428571  0.428571   5.000000   5.333333   \n",
       "Some college or Associate degree  0.692073  0.679878   3.551181   3.885827   \n",
       "\n",
       "                                  ranking_3  ranking_4  ranking_5  ranking_6  \n",
       "Education                                                                     \n",
       "Bachelor degree                    4.521073   3.114504   2.309160   2.931298  \n",
       "Graduate degree                    4.500000   3.199115   2.323009   2.920354  \n",
       "High school degree                 4.126761   3.211268   2.873239   3.239437  \n",
       "Less than high school degree       3.666667   2.666667   1.000000   3.333333  \n",
       "Some college or Associate degree   4.102362   3.503937   2.783465   3.173228  "
      ]
     },
     "execution_count": 217,
     "metadata": {},
     "output_type": "execute_result"
    }
   ],
   "source": [
    "df_eduction = star_wars_df.groupby(by=['Education']).mean()\n",
    "df_eduction"
   ]
  },
  {
   "cell_type": "code",
   "execution_count": 245,
   "metadata": {},
   "outputs": [
    {
     "data": {
      "image/png": "[encoded data removed]",
      "text/plain": [
       "<Figure size 576x432 with 1 Axes>"
      ]
     },
     "metadata": {
      "needs_background": "light"
     },
     "output_type": "display_data"
    }
   ],
   "source": [
    "# color mapping\n",
    "# clr_mapping = ['skyblue','peachpuff','lightgreen','salmon','lightcyan',\n",
    "#          'wheat']\n",
    "\n",
    "df_eduction.iloc[:,8:].plot.bar(rot=15,figsize=(8,6),\n",
    "                        title='Ranking of sequels according to Education group',\n",
    "                          color=clr_mapping)\n",
    "# Put the legend out of the figure\n",
    "plt.legend(bbox_to_anchor=(1.05, 1), loc=2, borderaxespad=0.,\n",
    "          fontsize=10)\n",
    "plt.show()"
   ]
  },
  {
   "cell_type": "markdown",
   "metadata": {},
   "source": [
    "Similarly, here as well, Episode V is least liked by each individual education group. Out of Five groups, four of the group voted episode III as the most liked Star Wars sequel."
   ]
  },
  {
   "cell_type": "code",
   "execution_count": 220,
   "metadata": {},
   "outputs": [
    {
     "data": {
      "text/html": [
       "<div>\n",
       "<style scoped>\n",
       "    .dataframe tbody tr th:only-of-type {\n",
       "        vertical-align: middle;\n",
       "    }\n",
       "\n",
       "    .dataframe tbody tr th {\n",
       "        vertical-align: top;\n",
       "    }\n",
       "\n",
       "    .dataframe thead th {\n",
       "        text-align: right;\n",
       "    }\n",
       "</style>\n",
       "<table border=\"1\" class=\"dataframe\">\n",
       "  <thead>\n",
       "    <tr style=\"text-align: right;\">\n",
       "      <th></th>\n",
       "      <th>RespondentID</th>\n",
       "      <th>Have you seen any of the 6 films in the Star Wars franchise?</th>\n",
       "      <th>seen_1</th>\n",
       "      <th>seen_2</th>\n",
       "      <th>seen_3</th>\n",
       "      <th>seen_4</th>\n",
       "      <th>seen_5</th>\n",
       "      <th>seen_6</th>\n",
       "      <th>ranking_1</th>\n",
       "      <th>ranking_2</th>\n",
       "      <th>ranking_3</th>\n",
       "      <th>ranking_4</th>\n",
       "      <th>ranking_5</th>\n",
       "      <th>ranking_6</th>\n",
       "    </tr>\n",
       "    <tr>\n",
       "      <th>Location (Census Region)</th>\n",
       "      <th></th>\n",
       "      <th></th>\n",
       "      <th></th>\n",
       "      <th></th>\n",
       "      <th></th>\n",
       "      <th></th>\n",
       "      <th></th>\n",
       "      <th></th>\n",
       "      <th></th>\n",
       "      <th></th>\n",
       "      <th></th>\n",
       "      <th></th>\n",
       "      <th></th>\n",
       "      <th></th>\n",
       "    </tr>\n",
       "  </thead>\n",
       "  <tbody>\n",
       "    <tr>\n",
       "      <th>East North Central</th>\n",
       "      <td>3.290208e+09</td>\n",
       "      <td>0.740331</td>\n",
       "      <td>0.563536</td>\n",
       "      <td>0.491713</td>\n",
       "      <td>0.491713</td>\n",
       "      <td>0.524862</td>\n",
       "      <td>0.707182</td>\n",
       "      <td>0.668508</td>\n",
       "      <td>3.723881</td>\n",
       "      <td>4.074627</td>\n",
       "      <td>4.410448</td>\n",
       "      <td>3.358209</td>\n",
       "      <td>2.373134</td>\n",
       "      <td>3.059701</td>\n",
       "    </tr>\n",
       "    <tr>\n",
       "      <th>East South Central</th>\n",
       "      <td>3.290230e+09</td>\n",
       "      <td>0.842105</td>\n",
       "      <td>0.631579</td>\n",
       "      <td>0.552632</td>\n",
       "      <td>0.552632</td>\n",
       "      <td>0.710526</td>\n",
       "      <td>0.815789</td>\n",
       "      <td>0.763158</td>\n",
       "      <td>3.875000</td>\n",
       "      <td>4.593750</td>\n",
       "      <td>4.375000</td>\n",
       "      <td>2.875000</td>\n",
       "      <td>2.250000</td>\n",
       "      <td>3.031250</td>\n",
       "    </tr>\n",
       "    <tr>\n",
       "      <th>Middle Atlantic</th>\n",
       "      <td>3.290092e+09</td>\n",
       "      <td>0.762295</td>\n",
       "      <td>0.647541</td>\n",
       "      <td>0.565574</td>\n",
       "      <td>0.573770</td>\n",
       "      <td>0.622951</td>\n",
       "      <td>0.680328</td>\n",
       "      <td>0.696721</td>\n",
       "      <td>3.924731</td>\n",
       "      <td>4.215054</td>\n",
       "      <td>4.413043</td>\n",
       "      <td>3.064516</td>\n",
       "      <td>2.440860</td>\n",
       "      <td>2.924731</td>\n",
       "    </tr>\n",
       "    <tr>\n",
       "      <th>Mountain</th>\n",
       "      <td>3.290069e+09</td>\n",
       "      <td>0.860759</td>\n",
       "      <td>0.721519</td>\n",
       "      <td>0.594937</td>\n",
       "      <td>0.582278</td>\n",
       "      <td>0.683544</td>\n",
       "      <td>0.772152</td>\n",
       "      <td>0.746835</td>\n",
       "      <td>4.000000</td>\n",
       "      <td>4.000000</td>\n",
       "      <td>4.279412</td>\n",
       "      <td>2.970588</td>\n",
       "      <td>2.794118</td>\n",
       "      <td>2.955882</td>\n",
       "    </tr>\n",
       "    <tr>\n",
       "      <th>New England</th>\n",
       "      <td>3.290039e+09</td>\n",
       "      <td>0.800000</td>\n",
       "      <td>0.666667</td>\n",
       "      <td>0.586667</td>\n",
       "      <td>0.573333</td>\n",
       "      <td>0.640000</td>\n",
       "      <td>0.733333</td>\n",
       "      <td>0.720000</td>\n",
       "      <td>4.203390</td>\n",
       "      <td>4.166667</td>\n",
       "      <td>4.133333</td>\n",
       "      <td>3.083333</td>\n",
       "      <td>2.516667</td>\n",
       "      <td>2.866667</td>\n",
       "    </tr>\n",
       "    <tr>\n",
       "      <th>Pacific</th>\n",
       "      <td>3.290092e+09</td>\n",
       "      <td>0.834286</td>\n",
       "      <td>0.685714</td>\n",
       "      <td>0.565714</td>\n",
       "      <td>0.525714</td>\n",
       "      <td>0.600000</td>\n",
       "      <td>0.702857</td>\n",
       "      <td>0.708571</td>\n",
       "      <td>3.582192</td>\n",
       "      <td>3.821918</td>\n",
       "      <td>4.171233</td>\n",
       "      <td>3.219178</td>\n",
       "      <td>2.739726</td>\n",
       "      <td>3.465753</td>\n",
       "    </tr>\n",
       "    <tr>\n",
       "      <th>South Atlantic</th>\n",
       "      <td>3.290179e+09</td>\n",
       "      <td>0.782353</td>\n",
       "      <td>0.611765</td>\n",
       "      <td>0.482353</td>\n",
       "      <td>0.464706</td>\n",
       "      <td>0.547059</td>\n",
       "      <td>0.735294</td>\n",
       "      <td>0.705882</td>\n",
       "      <td>3.684211</td>\n",
       "      <td>4.180451</td>\n",
       "      <td>4.443609</td>\n",
       "      <td>3.406015</td>\n",
       "      <td>2.398496</td>\n",
       "      <td>2.887218</td>\n",
       "    </tr>\n",
       "    <tr>\n",
       "      <th>West North Central</th>\n",
       "      <td>3.290312e+09</td>\n",
       "      <td>0.817204</td>\n",
       "      <td>0.655914</td>\n",
       "      <td>0.548387</td>\n",
       "      <td>0.526882</td>\n",
       "      <td>0.526882</td>\n",
       "      <td>0.720430</td>\n",
       "      <td>0.677419</td>\n",
       "      <td>3.671053</td>\n",
       "      <td>4.105263</td>\n",
       "      <td>4.355263</td>\n",
       "      <td>3.368421</td>\n",
       "      <td>2.552632</td>\n",
       "      <td>2.947368</td>\n",
       "    </tr>\n",
       "    <tr>\n",
       "      <th>West South Central</th>\n",
       "      <td>3.289979e+09</td>\n",
       "      <td>0.690909</td>\n",
       "      <td>0.563636</td>\n",
       "      <td>0.527273</td>\n",
       "      <td>0.454545</td>\n",
       "      <td>0.445455</td>\n",
       "      <td>0.636364</td>\n",
       "      <td>0.627273</td>\n",
       "      <td>3.394737</td>\n",
       "      <td>4.118421</td>\n",
       "      <td>4.473684</td>\n",
       "      <td>3.657895</td>\n",
       "      <td>2.421053</td>\n",
       "      <td>2.934211</td>\n",
       "    </tr>\n",
       "  </tbody>\n",
       "</table>\n",
       "</div>"
      ],
      "text/plain": [
       "                          RespondentID  \\\n",
       "Location (Census Region)                 \n",
       "East North Central        3.290208e+09   \n",
       "East South Central        3.290230e+09   \n",
       "Middle Atlantic           3.290092e+09   \n",
       "Mountain                  3.290069e+09   \n",
       "New England               3.290039e+09   \n",
       "Pacific                   3.290092e+09   \n",
       "South Atlantic            3.290179e+09   \n",
       "West North Central        3.290312e+09   \n",
       "West South Central        3.289979e+09   \n",
       "\n",
       "                          Have you seen any of the 6 films in the Star Wars franchise?  \\\n",
       "Location (Census Region)                                                                 \n",
       "East North Central                                                 0.740331              \n",
       "East South Central                                                 0.842105              \n",
       "Middle Atlantic                                                    0.762295              \n",
       "Mountain                                                           0.860759              \n",
       "New England                                                        0.800000              \n",
       "Pacific                                                            0.834286              \n",
       "South Atlantic                                                     0.782353              \n",
       "West North Central                                                 0.817204              \n",
       "West South Central                                                 0.690909              \n",
       "\n",
       "                            seen_1    seen_2    seen_3    seen_4    seen_5  \\\n",
       "Location (Census Region)                                                     \n",
       "East North Central        0.563536  0.491713  0.491713  0.524862  0.707182   \n",
       "East South Central        0.631579  0.552632  0.552632  0.710526  0.815789   \n",
       "Middle Atlantic           0.647541  0.565574  0.573770  0.622951  0.680328   \n",
       "Mountain                  0.721519  0.594937  0.582278  0.683544  0.772152   \n",
       "New England               0.666667  0.586667  0.573333  0.640000  0.733333   \n",
       "Pacific                   0.685714  0.565714  0.525714  0.600000  0.702857   \n",
       "South Atlantic            0.611765  0.482353  0.464706  0.547059  0.735294   \n",
       "West North Central        0.655914  0.548387  0.526882  0.526882  0.720430   \n",
       "West South Central        0.563636  0.527273  0.454545  0.445455  0.636364   \n",
       "\n",
       "                            seen_6  ranking_1  ranking_2  ranking_3  \\\n",
       "Location (Census Region)                                              \n",
       "East North Central        0.668508   3.723881   4.074627   4.410448   \n",
       "East South Central        0.763158   3.875000   4.593750   4.375000   \n",
       "Middle Atlantic           0.696721   3.924731   4.215054   4.413043   \n",
       "Mountain                  0.746835   4.000000   4.000000   4.279412   \n",
       "New England               0.720000   4.203390   4.166667   4.133333   \n",
       "Pacific                   0.708571   3.582192   3.821918   4.171233   \n",
       "South Atlantic            0.705882   3.684211   4.180451   4.443609   \n",
       "West North Central        0.677419   3.671053   4.105263   4.355263   \n",
       "West South Central        0.627273   3.394737   4.118421   4.473684   \n",
       "\n",
       "                          ranking_4  ranking_5  ranking_6  \n",
       "Location (Census Region)                                   \n",
       "East North Central         3.358209   2.373134   3.059701  \n",
       "East South Central         2.875000   2.250000   3.031250  \n",
       "Middle Atlantic            3.064516   2.440860   2.924731  \n",
       "Mountain                   2.970588   2.794118   2.955882  \n",
       "New England                3.083333   2.516667   2.866667  \n",
       "Pacific                    3.219178   2.739726   3.465753  \n",
       "South Atlantic             3.406015   2.398496   2.887218  \n",
       "West North Central         3.368421   2.552632   2.947368  \n",
       "West South Central         3.657895   2.421053   2.934211  "
      ]
     },
     "execution_count": 220,
     "metadata": {},
     "output_type": "execute_result"
    }
   ],
   "source": [
    "df_location = star_wars_df.groupby(by=['Location (Census Region)']).mean()\n",
    "df_location"
   ]
  },
  {
   "cell_type": "code",
   "execution_count": 246,
   "metadata": {},
   "outputs": [
    {
     "data": {
      "image/png": "[encoded data removed]",
      "text/plain": [
       "<Figure size 864x432 with 1 Axes>"
      ]
     },
     "metadata": {
      "needs_background": "light"
     },
     "output_type": "display_data"
    }
   ],
   "source": [
    "# color mapping\n",
    "clr_mapping = ['skyblue','peachpuff','lightgreen','salmon','grey',\n",
    "         'wheat']\n",
    "\n",
    "df_location.iloc[:,8:].plot.bar(rot=15,figsize=(12,6),\n",
    "                        title='Ranking of sequels according to Location group',\n",
    "                          color=clr_mapping,\n",
    "                               width=0.8)\n",
    "# Put the legend out of the figure\n",
    "plt.legend(bbox_to_anchor=(1.05, 1), loc=2, borderaxespad=0.,\n",
    "          fontsize=10)\n",
    "plt.show()"
   ]
  },
  {
   "cell_type": "markdown",
   "metadata": {},
   "source": [
    "###### Final Step:\n",
    "We would be experimenting with unsupervised learning: different clustering algorithms and see if there is any interesting things going aroung."
   ]
  }
 ],
 "metadata": {
  "kernelspec": {
   "display_name": "Python 3",
   "language": "python",
   "name": "python3"
  },
  "language_info": {
   "codemirror_mode": {
    "name": "ipython",
    "version": 3
   },
   "file_extension": ".py",
   "mimetype": "text/x-python",
   "name": "python",
   "nbconvert_exporter": "python",
   "pygments_lexer": "ipython3",
   "version": "3.7.5"
  }
 },
 "nbformat": 4,
 "nbformat_minor": 2
}
